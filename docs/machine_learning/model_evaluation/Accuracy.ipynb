{
 "cells": [
  {
   "cell_type": "raw",
   "id": "cooked-above",
   "metadata": {},
   "source": [
    "---\n",
    "title: \"Accuracy\"\n",
    "author: \"Jan Meppe\"\n",
    "date: 2021-04-14\n",
    "description: \"Accuracy\"\n",
    "type: technical_note\n",
    "draft: false\n",
    "---"
   ]
  },
  {
   "cell_type": "markdown",
   "id": "distant-dependence",
   "metadata": {},
   "source": [
    "If you want to calculate the `accuracy` with cross-validation, check out [this](https://chrisalbon.com/machine_learning/model_evaluation/accuracy/). "
   ]
  },
  {
   "cell_type": "markdown",
   "id": "exterior-accordance",
   "metadata": {},
   "source": [
    "# Imports"
   ]
  },
  {
   "cell_type": "code",
   "execution_count": 8,
   "id": "stupid-faith",
   "metadata": {},
   "outputs": [],
   "source": [
    "from sklearn.metrics import accuracy_score"
   ]
  },
  {
   "cell_type": "markdown",
   "id": "waiting-gauge",
   "metadata": {},
   "source": [
    "# Create data"
   ]
  },
  {
   "cell_type": "code",
   "execution_count": 9,
   "id": "defined-moisture",
   "metadata": {},
   "outputs": [],
   "source": [
    "y_true = [0, 1, 2, 3, 4]\n",
    "y_pred = [0, 2, 1, 3, 5]"
   ]
  },
  {
   "cell_type": "markdown",
   "id": "tight-topic",
   "metadata": {},
   "source": [
    "# Calculate accuracy"
   ]
  },
  {
   "cell_type": "code",
   "execution_count": 10,
   "id": "destroyed-writing",
   "metadata": {},
   "outputs": [
    {
     "data": {
      "text/plain": [
       "0.4"
      ]
     },
     "execution_count": 10,
     "metadata": {},
     "output_type": "execute_result"
    }
   ],
   "source": [
    "accuracy_score(y_true, y_pred)"
   ]
  }
 ],
 "metadata": {
  "kernelspec": {
   "display_name": "Python 3",
   "language": "python",
   "name": "python3"
  },
  "language_info": {
   "codemirror_mode": {
    "name": "ipython",
    "version": 3
   },
   "file_extension": ".py",
   "mimetype": "text/x-python",
   "name": "python",
   "nbconvert_exporter": "python",
   "pygments_lexer": "ipython3",
   "version": "3.7.3"
  }
 },
 "nbformat": 4,
 "nbformat_minor": 5
}
