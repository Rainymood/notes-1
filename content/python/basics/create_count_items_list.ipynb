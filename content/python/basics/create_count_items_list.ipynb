{
 "cells": [
  {
   "cell_type": "raw",
   "id": "japanese-doubt",
   "metadata": {},
   "source": [
    "---\n",
    "title: \"Create count items in list\"\n",
    "author: \"Jan Meppe\"\n",
    "date: 2021-04-14\n",
    "description: \"Create count items in list\"\n",
    "type: technical_note\n",
    "draft: false\n",
    "---"
   ]
  },
  {
   "cell_type": "markdown",
   "id": "accepting-stream",
   "metadata": {},
   "source": [
    "## Imports"
   ]
  },
  {
   "cell_type": "code",
   "execution_count": 7,
   "id": "proprietary-title",
   "metadata": {},
   "outputs": [],
   "source": [
    "from collections import Counter"
   ]
  },
  {
   "cell_type": "markdown",
   "id": "placed-penguin",
   "metadata": {},
   "source": [
    "## Create count"
   ]
  },
  {
   "cell_type": "code",
   "execution_count": 8,
   "id": "cubic-frequency",
   "metadata": {},
   "outputs": [
    {
     "data": {
      "text/plain": [
       "Counter({'orange': 2, 'banana': 1, 'fruit': 1})"
      ]
     },
     "execution_count": 8,
     "metadata": {},
     "output_type": "execute_result"
    }
   ],
   "source": [
    "# Create count for items in list\n",
    "counter = Counter(['orange', 'banana', 'orange', 'fruit'])\n",
    "\n",
    "# View counter\n",
    "counter"
   ]
  }
 ],
 "metadata": {
  "kernelspec": {
   "display_name": "Python 3",
   "language": "python",
   "name": "python3"
  },
  "language_info": {
   "codemirror_mode": {
    "name": "ipython",
    "version": 3
   },
   "file_extension": ".py",
   "mimetype": "text/x-python",
   "name": "python",
   "nbconvert_exporter": "python",
   "pygments_lexer": "ipython3",
   "version": "3.7.3"
  }
 },
 "nbformat": 4,
 "nbformat_minor": 5
}
