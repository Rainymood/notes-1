{
 "cells": [
  {
   "cell_type": "raw",
   "id": "intelligent-hampton",
   "metadata": {},
   "source": [
    "---\n",
    "title: \"Count items in list\"\n",
    "author: \"Jan Meppe\"\n",
    "date: 2021-04-14\n",
    "description: \"Count items in list\"\n",
    "type: technical_note\n",
    "draft: false\n",
    "---"
   ]
  },
  {
   "cell_type": "markdown",
   "id": "mobile-george",
   "metadata": {},
   "source": [
    "## Create data"
   ]
  },
  {
   "cell_type": "code",
   "execution_count": 4,
   "id": "hybrid-damages",
   "metadata": {},
   "outputs": [],
   "source": [
    "items = ['orange', 'banana', 'orange', 'fruit']"
   ]
  },
  {
   "cell_type": "markdown",
   "id": "sized-substance",
   "metadata": {},
   "source": [
    "## Count items in list"
   ]
  },
  {
   "cell_type": "code",
   "execution_count": 5,
   "id": "inclusive-command",
   "metadata": {},
   "outputs": [
    {
     "data": {
      "text/plain": [
       "2"
      ]
     },
     "execution_count": 5,
     "metadata": {},
     "output_type": "execute_result"
    }
   ],
   "source": [
    "items.count('orange')"
   ]
  }
 ],
 "metadata": {
  "kernelspec": {
   "display_name": "Python 3",
   "language": "python",
   "name": "python3"
  },
  "language_info": {
   "codemirror_mode": {
    "name": "ipython",
    "version": 3
   },
   "file_extension": ".py",
   "mimetype": "text/x-python",
   "name": "python",
   "nbconvert_exporter": "python",
   "pygments_lexer": "ipython3",
   "version": "3.7.3"
  }
 },
 "nbformat": 4,
 "nbformat_minor": 5
}
