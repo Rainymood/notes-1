{
 "cells": [
  {
   "cell_type": "raw",
   "metadata": {},
   "source": [
    "---\n",
    "title: \"Create simulated data for regression\"\n",
    "author: \"Jan Meppe\"\n",
    "date: 2021-04-09\n",
    "description: \"Create simulated data for regression\"\n",
    "type: technical_note\n",
    "draft: false\n",
    "---"
   ]
  },
  {
   "cell_type": "markdown",
   "metadata": {},
   "source": [
    "# Creating simulated data for regression\n",
    "\n",
    "Generate a problem set for regression with `make_regression`."
   ]
  },
  {
   "cell_type": "markdown",
   "metadata": {},
   "source": [
    "## Imports"
   ]
  },
  {
   "cell_type": "code",
   "execution_count": 1,
   "metadata": {},
   "outputs": [],
   "source": [
    "import pandas as pd\n",
    "from sklearn.datasets import make_regression"
   ]
  },
  {
   "cell_type": "markdown",
   "metadata": {},
   "source": [
    "## Create data"
   ]
  },
  {
   "cell_type": "code",
   "execution_count": 3,
   "metadata": {},
   "outputs": [],
   "source": [
    "n_samples = 100\n",
    "n_features = 1\n",
    "X, y, coeff = make_regression(n_samples=n_samples,\n",
    "                              n_features=n_features,\n",
    "                              noise = 10,\n",
    "                              coef=True)"
   ]
  },
  {
   "cell_type": "markdown",
   "metadata": {},
   "source": [
    "## View data"
   ]
  },
  {
   "cell_type": "code",
   "execution_count": 4,
   "metadata": {},
   "outputs": [
    {
     "data": {
      "text/plain": [
       "array([[ 0.39342141],\n",
       "       [-0.29941625],\n",
       "       [ 0.8270667 ],\n",
       "       [-0.36925149],\n",
       "       [ 0.14036599],\n",
       "       [-0.86022152],\n",
       "       [-0.23233681],\n",
       "       [ 2.37128331],\n",
       "       [-0.67873926],\n",
       "       [-0.29949625],\n",
       "       [-0.90195881],\n",
       "       [-1.28719771],\n",
       "       [-1.26405413],\n",
       "       [ 0.27266678],\n",
       "       [ 0.16784455],\n",
       "       [-0.20048219],\n",
       "       [-1.42941065],\n",
       "       [ 0.60842469],\n",
       "       [-0.48417899],\n",
       "       [-1.36679132],\n",
       "       [ 0.09715774],\n",
       "       [-0.45187975],\n",
       "       [-2.74788733],\n",
       "       [ 0.50279895],\n",
       "       [-1.70296415],\n",
       "       [ 1.04227415],\n",
       "       [ 0.87418641],\n",
       "       [-1.63767289],\n",
       "       [-0.17883147],\n",
       "       [ 0.6544535 ],\n",
       "       [ 0.93920948],\n",
       "       [ 1.41625768],\n",
       "       [-2.23795933],\n",
       "       [-0.70319305],\n",
       "       [ 0.53609476],\n",
       "       [-1.1837513 ],\n",
       "       [-0.87942076],\n",
       "       [-0.20788573],\n",
       "       [ 0.06744645],\n",
       "       [-0.31599136],\n",
       "       [-0.37554173],\n",
       "       [-0.66007778],\n",
       "       [ 1.40581074],\n",
       "       [ 0.34448309],\n",
       "       [-0.24001123],\n",
       "       [-0.2200162 ],\n",
       "       [-0.87320706],\n",
       "       [ 0.52054898],\n",
       "       [ 1.79042077],\n",
       "       [-1.23654716],\n",
       "       [ 1.53065345],\n",
       "       [ 1.40074436],\n",
       "       [-1.30935746],\n",
       "       [ 0.24672444],\n",
       "       [ 0.41158459],\n",
       "       [ 0.2666237 ],\n",
       "       [-1.61525001],\n",
       "       [-0.94003684],\n",
       "       [ 1.16244022],\n",
       "       [ 0.26409889],\n",
       "       [ 0.39582731],\n",
       "       [ 0.93959662],\n",
       "       [-1.89957875],\n",
       "       [-0.0268127 ],\n",
       "       [ 0.62403731],\n",
       "       [ 0.78333234],\n",
       "       [ 0.20812531],\n",
       "       [-0.93339354],\n",
       "       [-0.3416054 ],\n",
       "       [-3.34341589],\n",
       "       [-0.4490694 ],\n",
       "       [ 2.51815549],\n",
       "       [ 0.8560637 ],\n",
       "       [-1.25976968],\n",
       "       [-0.29623853],\n",
       "       [-0.97449571],\n",
       "       [ 0.45095422],\n",
       "       [ 0.23361083],\n",
       "       [ 0.63572959],\n",
       "       [-1.18904987],\n",
       "       [-1.62312091],\n",
       "       [ 0.23525692],\n",
       "       [-0.73648408],\n",
       "       [ 0.33771802],\n",
       "       [-0.23952252],\n",
       "       [-1.08665533],\n",
       "       [-0.73657066],\n",
       "       [ 0.03183842],\n",
       "       [-0.79909607],\n",
       "       [ 0.49188479],\n",
       "       [-1.07922436],\n",
       "       [-0.55107552],\n",
       "       [-0.21886975],\n",
       "       [ 0.73425651],\n",
       "       [ 1.18220907],\n",
       "       [-0.6644963 ],\n",
       "       [ 1.75971429],\n",
       "       [-0.98564451],\n",
       "       [-0.40700772],\n",
       "       [-0.62972912]])"
      ]
     },
     "execution_count": 4,
     "metadata": {},
     "output_type": "execute_result"
    }
   ],
   "source": [
    "X"
   ]
  },
  {
   "cell_type": "code",
   "execution_count": 5,
   "metadata": {},
   "outputs": [
    {
     "data": {
      "text/plain": [
       "(100, 1)"
      ]
     },
     "execution_count": 5,
     "metadata": {},
     "output_type": "execute_result"
    }
   ],
   "source": [
    "X.shape"
   ]
  },
  {
   "cell_type": "code",
   "execution_count": 6,
   "metadata": {},
   "outputs": [
    {
     "data": {
      "text/plain": [
       "array([  9.52675132,  -7.44053638,  32.72300661,   4.13392985,\n",
       "         2.22081655, -12.43992078,  -6.74737513,  47.03512971,\n",
       "         8.05278114,   4.4100269 , -21.75723864, -28.19087162,\n",
       "       -27.30228217,   8.03115452, -30.70515569,  14.26893093,\n",
       "       -18.48318312,  20.23959115,  -1.89348799, -32.85311853,\n",
       "         9.02327361,  -9.03597214, -51.48520918,  10.85614552,\n",
       "       -14.03085247,  28.29871714,  32.87952785, -37.19885382,\n",
       "         4.99852428,  18.65202551,  15.44131029,  45.93415477,\n",
       "       -35.76999645, -24.19221215,  11.24014351, -28.46624889,\n",
       "       -12.86945945,  -3.91798659,   7.9360016 ,  -7.52129667,\n",
       "       -19.39114384, -18.99245333,  27.58782283,   3.41362704,\n",
       "        -5.17613676,  -3.40044047, -39.65840176,   9.54472686,\n",
       "        26.43818408, -23.2721936 ,  11.18891267,  22.93804112,\n",
       "       -29.53186157,  -9.23921842,   9.18505467,  -4.92061854,\n",
       "       -43.06232161, -32.47801339,  22.4176157 ,  -8.92589108,\n",
       "        21.44810676,  22.18065965, -42.56378797, -13.92420216,\n",
       "         0.46654487,  13.05829701,  21.54980895, -18.95884615,\n",
       "        12.88461808, -57.88780707,  -5.01774171,  50.55812623,\n",
       "         2.40305008, -43.19803023, -25.47628618, -16.03072861,\n",
       "        10.10623725,   0.43790824,   2.47232427, -25.97494282,\n",
       "       -31.84473229,   3.99237653, -11.92112629,  -1.74782567,\n",
       "        -5.5563537 , -13.02237772, -16.81083233,   4.93431145,\n",
       "       -19.36375729,  -2.25742877,  -7.46117928, -23.01622975,\n",
       "        -2.64262801,  20.58439967,  12.85242949, -27.5873534 ,\n",
       "        47.75043848, -18.80269135, -23.4548954 , -11.21394415])"
      ]
     },
     "execution_count": 6,
     "metadata": {},
     "output_type": "execute_result"
    }
   ],
   "source": [
    "y"
   ]
  },
  {
   "cell_type": "code",
   "execution_count": 7,
   "metadata": {},
   "outputs": [
    {
     "data": {
      "text/plain": [
       "(100,)"
      ]
     },
     "execution_count": 7,
     "metadata": {},
     "output_type": "execute_result"
    }
   ],
   "source": [
    "y.shape"
   ]
  },
  {
   "cell_type": "markdown",
   "metadata": {},
   "source": [
    "## Plot data"
   ]
  },
  {
   "cell_type": "code",
   "execution_count": 9,
   "metadata": {},
   "outputs": [
    {
     "data": {
      "image/png": "[encoded data removed]",
      "text/plain": [
       "<Figure size 432x288 with 1 Axes>"
      ]
     },
     "metadata": {
      "needs_background": "light"
     },
     "output_type": "display_data"
    }
   ],
   "source": [
    "import matplotlib.pyplot as plt\n",
    "\n",
    "plt.plot(X, y, 'bo')\n",
    "plt.show()"
   ]
  },
  {
   "cell_type": "code",
   "execution_count": null,
   "metadata": {},
   "outputs": [],
   "source": []
  }
 ],
 "metadata": {
  "kernelspec": {
   "display_name": "Python 3",
   "language": "python",
   "name": "python3"
  },
  "language_info": {
   "codemirror_mode": {
    "name": "ipython",
    "version": 3
   },
   "file_extension": ".py",
   "mimetype": "text/x-python",
   "name": "python",
   "nbconvert_exporter": "python",
   "pygments_lexer": "ipython3",
   "version": "3.7.3"
  }
 },
 "nbformat": 4,
 "nbformat_minor": 2
}
