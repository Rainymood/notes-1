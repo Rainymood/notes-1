{
 "cells": [
  {
   "cell_type": "markdown",
   "id": "prescribed-burke",
   "metadata": {},
   "source": [
    "Idea parking space:\n",
    "\n",
    "* Extract features from URL\n",
    "\n",
    "\n",
    "\n",
    "What I've done so far: \n",
    "\n",
    "* Load in the data\n",
    "* Inspect the data\n",
    "* Look for unique values with (`df.value_counts`)\n",
    "* Look for missing values with `df.info`\n",
    "* Drop na values (todo: refactor this in pipeline)\n",
    "* Create targets and remove from df"
   ]
  },
  {
   "cell_type": "markdown",
   "id": "victorian-directive",
   "metadata": {},
   "source": [
    "# Bot or not v2\n",
    "\n",
    "This is version 2 of the bot or not framework where we try to incorporate more features and try to put everything in a single pipeline."
   ]
  },
  {
   "cell_type": "code",
   "execution_count": 34,
   "id": "respiratory-vault",
   "metadata": {},
   "outputs": [],
   "source": [
    "import pandas as pd\n",
    "import numpy as np\n",
    "\n",
    "from sklearn.model_selection import train_test_split\n",
    "\n",
    "from sklearn.preprocessing import OneHotEncoder\n",
    "from sklearn.pipeline import Pipeline\n",
    "from sklearn.ensemble import RandomForestClassifier\n",
    "\n",
    "from sklearn.base import BaseEstimator\n",
    "from sklearn.base import TransformerMixin"
   ]
  },
  {
   "cell_type": "markdown",
   "id": "several-college",
   "metadata": {},
   "source": [
    "## Load in the data"
   ]
  },
  {
   "cell_type": "code",
   "execution_count": 35,
   "id": "embedded-regression",
   "metadata": {},
   "outputs": [],
   "source": [
    "filename = \"../../../data/bot-or-not-clickdata.csv\"\n",
    "df = pd.read_csv(filename)"
   ]
  },
  {
   "cell_type": "markdown",
   "id": "experimental-graphic",
   "metadata": {},
   "source": [
    "Data: \n",
    "\n",
    "* `epoch_ms`\n",
    "* `session_id`\n",
    "* `country_by_ip_address`\n",
    "* `region_by_ip_address`\n",
    "* `url_without_parameters`\n",
    "* `referrer_without_parameters`\n",
    "* `visitor_recognition_type`\n",
    "* `ua_agent_class`\n"
   ]
  },
  {
   "cell_type": "code",
   "execution_count": 36,
   "id": "deadly-crawford",
   "metadata": {},
   "outputs": [
    {
     "data": {
      "text/html": [
       "<div>\n",
       "<style scoped>\n",
       "    .dataframe tbody tr th:only-of-type {\n",
       "        vertical-align: middle;\n",
       "    }\n",
       "\n",
       "    .dataframe tbody tr th {\n",
       "        vertical-align: top;\n",
       "    }\n",
       "\n",
       "    .dataframe thead th {\n",
       "        text-align: right;\n",
       "    }\n",
       "</style>\n",
       "<table border=\"1\" class=\"dataframe\">\n",
       "  <thead>\n",
       "    <tr style=\"text-align: right;\">\n",
       "      <th></th>\n",
       "      <th>epoch_ms</th>\n",
       "      <th>session_id</th>\n",
       "      <th>country_by_ip_address</th>\n",
       "      <th>region_by_ip_address</th>\n",
       "      <th>url_without_parameters</th>\n",
       "      <th>referrer_without_parameters</th>\n",
       "      <th>visitor_recognition_type</th>\n",
       "      <th>ua_agent_class</th>\n",
       "    </tr>\n",
       "  </thead>\n",
       "  <tbody>\n",
       "    <tr>\n",
       "      <th>0</th>\n",
       "      <td>1520280001034</td>\n",
       "      <td>be73c8d1b836170a21529a1b23140f8e</td>\n",
       "      <td>US</td>\n",
       "      <td>CA</td>\n",
       "      <td>https://www.bol.com/nl/l/nederlandstalige-kuns...</td>\n",
       "      <td>NaN</td>\n",
       "      <td>ANONYMOUS</td>\n",
       "      <td>Robot</td>\n",
       "    </tr>\n",
       "    <tr>\n",
       "      <th>1</th>\n",
       "      <td>1520280001590</td>\n",
       "      <td>c24c6637ed7dcbe19ad64056184212a7</td>\n",
       "      <td>US</td>\n",
       "      <td>CA</td>\n",
       "      <td>https://www.bol.com/nl/l/italiaans-natuur-wete...</td>\n",
       "      <td>NaN</td>\n",
       "      <td>ANONYMOUS</td>\n",
       "      <td>Robot</td>\n",
       "    </tr>\n",
       "    <tr>\n",
       "      <th>2</th>\n",
       "      <td>1520280002397</td>\n",
       "      <td>ee391655f5680a7bfae0019450aed396</td>\n",
       "      <td>IT</td>\n",
       "      <td>LI</td>\n",
       "      <td>https://www.bol.com/nl/p/nespresso-magimix-ini...</td>\n",
       "      <td>https://www.bol.com/nl/p/nespresso-magimix-ini...</td>\n",
       "      <td>ANONYMOUS</td>\n",
       "      <td>Browser</td>\n",
       "    </tr>\n",
       "    <tr>\n",
       "      <th>3</th>\n",
       "      <td>1520280002598</td>\n",
       "      <td>f8c8a696dd37ca88233b2df096afa97f</td>\n",
       "      <td>US</td>\n",
       "      <td>CA</td>\n",
       "      <td>https://www.bol.com/nl/l/nieuwe-engelstalige-o...</td>\n",
       "      <td>NaN</td>\n",
       "      <td>ANONYMOUS</td>\n",
       "      <td>Robot</td>\n",
       "    </tr>\n",
       "    <tr>\n",
       "      <th>4</th>\n",
       "      <td>1520280004428</td>\n",
       "      <td>f8b0c06747b7dd1d53c0932306bd04d6</td>\n",
       "      <td>US</td>\n",
       "      <td>CA</td>\n",
       "      <td>https://www.bol.com/nl/l/nieuwe-actie-avontuur...</td>\n",
       "      <td>NaN</td>\n",
       "      <td>ANONYMOUS</td>\n",
       "      <td>Robot Mobile</td>\n",
       "    </tr>\n",
       "  </tbody>\n",
       "</table>\n",
       "</div>"
      ],
      "text/plain": [
       "        epoch_ms                        session_id country_by_ip_address  \\\n",
       "0  1520280001034  be73c8d1b836170a21529a1b23140f8e                    US   \n",
       "1  1520280001590  c24c6637ed7dcbe19ad64056184212a7                    US   \n",
       "2  1520280002397  ee391655f5680a7bfae0019450aed396                    IT   \n",
       "3  1520280002598  f8c8a696dd37ca88233b2df096afa97f                    US   \n",
       "4  1520280004428  f8b0c06747b7dd1d53c0932306bd04d6                    US   \n",
       "\n",
       "  region_by_ip_address                             url_without_parameters  \\\n",
       "0                   CA  https://www.bol.com/nl/l/nederlandstalige-kuns...   \n",
       "1                   CA  https://www.bol.com/nl/l/italiaans-natuur-wete...   \n",
       "2                   LI  https://www.bol.com/nl/p/nespresso-magimix-ini...   \n",
       "3                   CA  https://www.bol.com/nl/l/nieuwe-engelstalige-o...   \n",
       "4                   CA  https://www.bol.com/nl/l/nieuwe-actie-avontuur...   \n",
       "\n",
       "                         referrer_without_parameters visitor_recognition_type  \\\n",
       "0                                                NaN                ANONYMOUS   \n",
       "1                                                NaN                ANONYMOUS   \n",
       "2  https://www.bol.com/nl/p/nespresso-magimix-ini...                ANONYMOUS   \n",
       "3                                                NaN                ANONYMOUS   \n",
       "4                                                NaN                ANONYMOUS   \n",
       "\n",
       "  ua_agent_class  \n",
       "0          Robot  \n",
       "1          Robot  \n",
       "2        Browser  \n",
       "3          Robot  \n",
       "4   Robot Mobile  "
      ]
     },
     "execution_count": 36,
     "metadata": {},
     "output_type": "execute_result"
    }
   ],
   "source": [
    "df.head()"
   ]
  },
  {
   "cell_type": "markdown",
   "id": "polished-drawing",
   "metadata": {},
   "source": [
    "# Preprocessing"
   ]
  },
  {
   "cell_type": "markdown",
   "id": "institutional-lover",
   "metadata": {},
   "source": [
    "## Drop NaNs"
   ]
  },
  {
   "cell_type": "code",
   "execution_count": 37,
   "id": "liberal-exclusion",
   "metadata": {},
   "outputs": [],
   "source": [
    "mask = df['region_by_ip_address'].isnull()\n",
    "df = df.loc[~mask]"
   ]
  },
  {
   "cell_type": "markdown",
   "id": "psychological-fence",
   "metadata": {},
   "source": [
    "Let's check for missing data with `df.info()`"
   ]
  },
  {
   "cell_type": "code",
   "execution_count": 38,
   "id": "taken-support",
   "metadata": {},
   "outputs": [
    {
     "name": "stdout",
     "output_type": "stream",
     "text": [
      "<class 'pandas.core.frame.DataFrame'>\n",
      "Int64Index: 49886 entries, 0 to 59780\n",
      "Data columns (total 8 columns):\n",
      "epoch_ms                       49886 non-null int64\n",
      "session_id                     49886 non-null object\n",
      "country_by_ip_address          49886 non-null object\n",
      "region_by_ip_address           49886 non-null object\n",
      "url_without_parameters         49886 non-null object\n",
      "referrer_without_parameters    12838 non-null object\n",
      "visitor_recognition_type       49886 non-null object\n",
      "ua_agent_class                 49886 non-null object\n",
      "dtypes: int64(1), object(7)\n",
      "memory usage: 3.4+ MB\n"
     ]
    }
   ],
   "source": [
    "df.info()"
   ]
  },
  {
   "cell_type": "markdown",
   "id": "elegant-escape",
   "metadata": {},
   "source": [
    "We have some missing values in: \n",
    "* `country`\n",
    "* `region`\n",
    "* `referrer_without_parameters`"
   ]
  },
  {
   "cell_type": "markdown",
   "id": "provincial-translation",
   "metadata": {},
   "source": [
    "First come up with a very simple model. \n",
    "\n",
    "* We drop the column `region_by_ip_address`\n",
    "* We drop the column `referrer_without_parameters`"
   ]
  },
  {
   "cell_type": "markdown",
   "id": "extended-turner",
   "metadata": {},
   "source": [
    "## Create target/labels"
   ]
  },
  {
   "cell_type": "markdown",
   "id": "overall-killing",
   "metadata": {},
   "source": [
    "Let's check what categories we have:"
   ]
  },
  {
   "cell_type": "code",
   "execution_count": 39,
   "id": "local-laptop",
   "metadata": {},
   "outputs": [
    {
     "data": {
      "text/plain": [
       "Browser              26667\n",
       "Robot                15852\n",
       "Robot Mobile          5115\n",
       "Browser Webview       1454\n",
       "Hacker                 690\n",
       "Special                102\n",
       "Mobile App               4\n",
       "Cloud Application        2\n",
       "Name: ua_agent_class, dtype: int64"
      ]
     },
     "execution_count": 39,
     "metadata": {},
     "output_type": "execute_result"
    }
   ],
   "source": [
    "df['ua_agent_class'].value_counts()"
   ]
  },
  {
   "cell_type": "markdown",
   "id": "champion-plane",
   "metadata": {},
   "source": [
    "We turn these into labels by picking the right ones and adding a zero or one there."
   ]
  },
  {
   "cell_type": "code",
   "execution_count": 40,
   "id": "african-correction",
   "metadata": {},
   "outputs": [
    {
     "data": {
      "text/html": [
       "<div>\n",
       "<style scoped>\n",
       "    .dataframe tbody tr th:only-of-type {\n",
       "        vertical-align: middle;\n",
       "    }\n",
       "\n",
       "    .dataframe tbody tr th {\n",
       "        vertical-align: top;\n",
       "    }\n",
       "\n",
       "    .dataframe thead th {\n",
       "        text-align: right;\n",
       "    }\n",
       "</style>\n",
       "<table border=\"1\" class=\"dataframe\">\n",
       "  <thead>\n",
       "    <tr style=\"text-align: right;\">\n",
       "      <th></th>\n",
       "      <th>epoch_ms</th>\n",
       "      <th>session_id</th>\n",
       "      <th>country_by_ip_address</th>\n",
       "      <th>region_by_ip_address</th>\n",
       "      <th>url_without_parameters</th>\n",
       "      <th>referrer_without_parameters</th>\n",
       "      <th>visitor_recognition_type</th>\n",
       "      <th>ua_agent_class</th>\n",
       "      <th>target</th>\n",
       "    </tr>\n",
       "  </thead>\n",
       "  <tbody>\n",
       "    <tr>\n",
       "      <th>0</th>\n",
       "      <td>1520280001034</td>\n",
       "      <td>be73c8d1b836170a21529a1b23140f8e</td>\n",
       "      <td>US</td>\n",
       "      <td>CA</td>\n",
       "      <td>https://www.bol.com/nl/l/nederlandstalige-kuns...</td>\n",
       "      <td>NaN</td>\n",
       "      <td>ANONYMOUS</td>\n",
       "      <td>Robot</td>\n",
       "      <td>1</td>\n",
       "    </tr>\n",
       "    <tr>\n",
       "      <th>1</th>\n",
       "      <td>1520280001590</td>\n",
       "      <td>c24c6637ed7dcbe19ad64056184212a7</td>\n",
       "      <td>US</td>\n",
       "      <td>CA</td>\n",
       "      <td>https://www.bol.com/nl/l/italiaans-natuur-wete...</td>\n",
       "      <td>NaN</td>\n",
       "      <td>ANONYMOUS</td>\n",
       "      <td>Robot</td>\n",
       "      <td>1</td>\n",
       "    </tr>\n",
       "    <tr>\n",
       "      <th>2</th>\n",
       "      <td>1520280002397</td>\n",
       "      <td>ee391655f5680a7bfae0019450aed396</td>\n",
       "      <td>IT</td>\n",
       "      <td>LI</td>\n",
       "      <td>https://www.bol.com/nl/p/nespresso-magimix-ini...</td>\n",
       "      <td>https://www.bol.com/nl/p/nespresso-magimix-ini...</td>\n",
       "      <td>ANONYMOUS</td>\n",
       "      <td>Browser</td>\n",
       "      <td>0</td>\n",
       "    </tr>\n",
       "    <tr>\n",
       "      <th>3</th>\n",
       "      <td>1520280002598</td>\n",
       "      <td>f8c8a696dd37ca88233b2df096afa97f</td>\n",
       "      <td>US</td>\n",
       "      <td>CA</td>\n",
       "      <td>https://www.bol.com/nl/l/nieuwe-engelstalige-o...</td>\n",
       "      <td>NaN</td>\n",
       "      <td>ANONYMOUS</td>\n",
       "      <td>Robot</td>\n",
       "      <td>1</td>\n",
       "    </tr>\n",
       "    <tr>\n",
       "      <th>4</th>\n",
       "      <td>1520280004428</td>\n",
       "      <td>f8b0c06747b7dd1d53c0932306bd04d6</td>\n",
       "      <td>US</td>\n",
       "      <td>CA</td>\n",
       "      <td>https://www.bol.com/nl/l/nieuwe-actie-avontuur...</td>\n",
       "      <td>NaN</td>\n",
       "      <td>ANONYMOUS</td>\n",
       "      <td>Robot Mobile</td>\n",
       "      <td>1</td>\n",
       "    </tr>\n",
       "  </tbody>\n",
       "</table>\n",
       "</div>"
      ],
      "text/plain": [
       "        epoch_ms                        session_id country_by_ip_address  \\\n",
       "0  1520280001034  be73c8d1b836170a21529a1b23140f8e                    US   \n",
       "1  1520280001590  c24c6637ed7dcbe19ad64056184212a7                    US   \n",
       "2  1520280002397  ee391655f5680a7bfae0019450aed396                    IT   \n",
       "3  1520280002598  f8c8a696dd37ca88233b2df096afa97f                    US   \n",
       "4  1520280004428  f8b0c06747b7dd1d53c0932306bd04d6                    US   \n",
       "\n",
       "  region_by_ip_address                             url_without_parameters  \\\n",
       "0                   CA  https://www.bol.com/nl/l/nederlandstalige-kuns...   \n",
       "1                   CA  https://www.bol.com/nl/l/italiaans-natuur-wete...   \n",
       "2                   LI  https://www.bol.com/nl/p/nespresso-magimix-ini...   \n",
       "3                   CA  https://www.bol.com/nl/l/nieuwe-engelstalige-o...   \n",
       "4                   CA  https://www.bol.com/nl/l/nieuwe-actie-avontuur...   \n",
       "\n",
       "                         referrer_without_parameters visitor_recognition_type  \\\n",
       "0                                                NaN                ANONYMOUS   \n",
       "1                                                NaN                ANONYMOUS   \n",
       "2  https://www.bol.com/nl/p/nespresso-magimix-ini...                ANONYMOUS   \n",
       "3                                                NaN                ANONYMOUS   \n",
       "4                                                NaN                ANONYMOUS   \n",
       "\n",
       "  ua_agent_class  target  \n",
       "0          Robot       1  \n",
       "1          Robot       1  \n",
       "2        Browser       0  \n",
       "3          Robot       1  \n",
       "4   Robot Mobile       1  "
      ]
     },
     "execution_count": 40,
     "metadata": {},
     "output_type": "execute_result"
    }
   ],
   "source": [
    "def class_to_bot(agent):\n",
    "    if agent in [\"Robot\", \"Robot Mobile\", \"Special\", \"Cloud Application\"]: \n",
    "        return 1\n",
    "    else: \n",
    "        return 0\n",
    "    \n",
    "df['target'] = df['ua_agent_class'].apply(class_to_bot)\n",
    "\n",
    "df.head()"
   ]
  },
  {
   "cell_type": "code",
   "execution_count": 41,
   "id": "operational-burning",
   "metadata": {},
   "outputs": [],
   "source": [
    "df = df.drop(columns=['ua_agent_class'])"
   ]
  },
  {
   "cell_type": "markdown",
   "id": "characteristic-draft",
   "metadata": {},
   "source": [
    "# Feature engineering\n",
    "\n"
   ]
  },
  {
   "cell_type": "code",
   "execution_count": null,
   "id": "hazardous-spread",
   "metadata": {},
   "outputs": [],
   "source": []
  },
  {
   "cell_type": "code",
   "execution_count": null,
   "id": "suspected-paper",
   "metadata": {},
   "outputs": [],
   "source": []
  },
  {
   "cell_type": "code",
   "execution_count": 48,
   "id": "innovative-composer",
   "metadata": {},
   "outputs": [
    {
     "ename": "KeyError",
     "evalue": "'target'",
     "output_type": "error",
     "traceback": [
      "\u001b[0;31m---------------------------------------------------------------------------\u001b[0m",
      "\u001b[0;31mKeyError\u001b[0m                                  Traceback (most recent call last)",
      "\u001b[0;32m/Library/Frameworks/Python.framework/Versions/3.7/lib/python3.7/site-packages/pandas/core/indexes/base.py\u001b[0m in \u001b[0;36mget_loc\u001b[0;34m(self, key, method, tolerance)\u001b[0m\n\u001b[1;32m   2656\u001b[0m             \u001b[0;32mtry\u001b[0m\u001b[0;34m:\u001b[0m\u001b[0;34m\u001b[0m\u001b[0;34m\u001b[0m\u001b[0m\n\u001b[0;32m-> 2657\u001b[0;31m                 \u001b[0;32mreturn\u001b[0m \u001b[0mself\u001b[0m\u001b[0;34m.\u001b[0m\u001b[0m_engine\u001b[0m\u001b[0;34m.\u001b[0m\u001b[0mget_loc\u001b[0m\u001b[0;34m(\u001b[0m\u001b[0mkey\u001b[0m\u001b[0;34m)\u001b[0m\u001b[0;34m\u001b[0m\u001b[0;34m\u001b[0m\u001b[0m\n\u001b[0m\u001b[1;32m   2658\u001b[0m             \u001b[0;32mexcept\u001b[0m \u001b[0mKeyError\u001b[0m\u001b[0;34m:\u001b[0m\u001b[0;34m\u001b[0m\u001b[0;34m\u001b[0m\u001b[0m\n",
      "\u001b[0;32mpandas/_libs/index.pyx\u001b[0m in \u001b[0;36mpandas._libs.index.IndexEngine.get_loc\u001b[0;34m()\u001b[0m\n",
      "\u001b[0;32mpandas/_libs/index.pyx\u001b[0m in \u001b[0;36mpandas._libs.index.IndexEngine.get_loc\u001b[0;34m()\u001b[0m\n",
      "\u001b[0;32mpandas/_libs/hashtable_class_helper.pxi\u001b[0m in \u001b[0;36mpandas._libs.hashtable.PyObjectHashTable.get_item\u001b[0;34m()\u001b[0m\n",
      "\u001b[0;32mpandas/_libs/hashtable_class_helper.pxi\u001b[0m in \u001b[0;36mpandas._libs.hashtable.PyObjectHashTable.get_item\u001b[0;34m()\u001b[0m\n",
      "\u001b[0;31mKeyError\u001b[0m: 'target'",
      "\nDuring handling of the above exception, another exception occurred:\n",
      "\u001b[0;31mKeyError\u001b[0m                                  Traceback (most recent call last)",
      "\u001b[0;32m<ipython-input-48-9fd451da30a0>\u001b[0m in \u001b[0;36m<module>\u001b[0;34m\u001b[0m\n\u001b[0;32m----> 1\u001b[0;31m \u001b[0my\u001b[0m \u001b[0;34m=\u001b[0m \u001b[0mdf\u001b[0m\u001b[0;34m.\u001b[0m\u001b[0mpop\u001b[0m\u001b[0;34m(\u001b[0m\u001b[0;34m'target'\u001b[0m\u001b[0;34m)\u001b[0m\u001b[0;34m\u001b[0m\u001b[0;34m\u001b[0m\u001b[0m\n\u001b[0m\u001b[1;32m      2\u001b[0m \u001b[0mX\u001b[0m \u001b[0;34m=\u001b[0m \u001b[0mdf\u001b[0m\u001b[0;34m\u001b[0m\u001b[0;34m\u001b[0m\u001b[0m\n",
      "\u001b[0;32m/Library/Frameworks/Python.framework/Versions/3.7/lib/python3.7/site-packages/pandas/core/generic.py\u001b[0m in \u001b[0;36mpop\u001b[0;34m(self, item)\u001b[0m\n\u001b[1;32m    807\u001b[0m         \u001b[0;36m3\u001b[0m  \u001b[0mmonkey\u001b[0m        \u001b[0mNaN\u001b[0m\u001b[0;34m\u001b[0m\u001b[0;34m\u001b[0m\u001b[0m\n\u001b[1;32m    808\u001b[0m         \"\"\"\n\u001b[0;32m--> 809\u001b[0;31m         \u001b[0mresult\u001b[0m \u001b[0;34m=\u001b[0m \u001b[0mself\u001b[0m\u001b[0;34m[\u001b[0m\u001b[0mitem\u001b[0m\u001b[0;34m]\u001b[0m\u001b[0;34m\u001b[0m\u001b[0;34m\u001b[0m\u001b[0m\n\u001b[0m\u001b[1;32m    810\u001b[0m         \u001b[0;32mdel\u001b[0m \u001b[0mself\u001b[0m\u001b[0;34m[\u001b[0m\u001b[0mitem\u001b[0m\u001b[0;34m]\u001b[0m\u001b[0;34m\u001b[0m\u001b[0;34m\u001b[0m\u001b[0m\n\u001b[1;32m    811\u001b[0m         \u001b[0;32mtry\u001b[0m\u001b[0;34m:\u001b[0m\u001b[0;34m\u001b[0m\u001b[0;34m\u001b[0m\u001b[0m\n",
      "\u001b[0;32m/Library/Frameworks/Python.framework/Versions/3.7/lib/python3.7/site-packages/pandas/core/frame.py\u001b[0m in \u001b[0;36m__getitem__\u001b[0;34m(self, key)\u001b[0m\n\u001b[1;32m   2925\u001b[0m             \u001b[0;32mif\u001b[0m \u001b[0mself\u001b[0m\u001b[0;34m.\u001b[0m\u001b[0mcolumns\u001b[0m\u001b[0;34m.\u001b[0m\u001b[0mnlevels\u001b[0m \u001b[0;34m>\u001b[0m \u001b[0;36m1\u001b[0m\u001b[0;34m:\u001b[0m\u001b[0;34m\u001b[0m\u001b[0;34m\u001b[0m\u001b[0m\n\u001b[1;32m   2926\u001b[0m                 \u001b[0;32mreturn\u001b[0m \u001b[0mself\u001b[0m\u001b[0;34m.\u001b[0m\u001b[0m_getitem_multilevel\u001b[0m\u001b[0;34m(\u001b[0m\u001b[0mkey\u001b[0m\u001b[0;34m)\u001b[0m\u001b[0;34m\u001b[0m\u001b[0;34m\u001b[0m\u001b[0m\n\u001b[0;32m-> 2927\u001b[0;31m             \u001b[0mindexer\u001b[0m \u001b[0;34m=\u001b[0m \u001b[0mself\u001b[0m\u001b[0;34m.\u001b[0m\u001b[0mcolumns\u001b[0m\u001b[0;34m.\u001b[0m\u001b[0mget_loc\u001b[0m\u001b[0;34m(\u001b[0m\u001b[0mkey\u001b[0m\u001b[0;34m)\u001b[0m\u001b[0;34m\u001b[0m\u001b[0;34m\u001b[0m\u001b[0m\n\u001b[0m\u001b[1;32m   2928\u001b[0m             \u001b[0;32mif\u001b[0m \u001b[0mis_integer\u001b[0m\u001b[0;34m(\u001b[0m\u001b[0mindexer\u001b[0m\u001b[0;34m)\u001b[0m\u001b[0;34m:\u001b[0m\u001b[0;34m\u001b[0m\u001b[0;34m\u001b[0m\u001b[0m\n\u001b[1;32m   2929\u001b[0m                 \u001b[0mindexer\u001b[0m \u001b[0;34m=\u001b[0m \u001b[0;34m[\u001b[0m\u001b[0mindexer\u001b[0m\u001b[0;34m]\u001b[0m\u001b[0;34m\u001b[0m\u001b[0;34m\u001b[0m\u001b[0m\n",
      "\u001b[0;32m/Library/Frameworks/Python.framework/Versions/3.7/lib/python3.7/site-packages/pandas/core/indexes/base.py\u001b[0m in \u001b[0;36mget_loc\u001b[0;34m(self, key, method, tolerance)\u001b[0m\n\u001b[1;32m   2657\u001b[0m                 \u001b[0;32mreturn\u001b[0m \u001b[0mself\u001b[0m\u001b[0;34m.\u001b[0m\u001b[0m_engine\u001b[0m\u001b[0;34m.\u001b[0m\u001b[0mget_loc\u001b[0m\u001b[0;34m(\u001b[0m\u001b[0mkey\u001b[0m\u001b[0;34m)\u001b[0m\u001b[0;34m\u001b[0m\u001b[0;34m\u001b[0m\u001b[0m\n\u001b[1;32m   2658\u001b[0m             \u001b[0;32mexcept\u001b[0m \u001b[0mKeyError\u001b[0m\u001b[0;34m:\u001b[0m\u001b[0;34m\u001b[0m\u001b[0;34m\u001b[0m\u001b[0m\n\u001b[0;32m-> 2659\u001b[0;31m                 \u001b[0;32mreturn\u001b[0m \u001b[0mself\u001b[0m\u001b[0;34m.\u001b[0m\u001b[0m_engine\u001b[0m\u001b[0;34m.\u001b[0m\u001b[0mget_loc\u001b[0m\u001b[0;34m(\u001b[0m\u001b[0mself\u001b[0m\u001b[0;34m.\u001b[0m\u001b[0m_maybe_cast_indexer\u001b[0m\u001b[0;34m(\u001b[0m\u001b[0mkey\u001b[0m\u001b[0;34m)\u001b[0m\u001b[0;34m)\u001b[0m\u001b[0;34m\u001b[0m\u001b[0;34m\u001b[0m\u001b[0m\n\u001b[0m\u001b[1;32m   2660\u001b[0m         \u001b[0mindexer\u001b[0m \u001b[0;34m=\u001b[0m \u001b[0mself\u001b[0m\u001b[0;34m.\u001b[0m\u001b[0mget_indexer\u001b[0m\u001b[0;34m(\u001b[0m\u001b[0;34m[\u001b[0m\u001b[0mkey\u001b[0m\u001b[0;34m]\u001b[0m\u001b[0;34m,\u001b[0m \u001b[0mmethod\u001b[0m\u001b[0;34m=\u001b[0m\u001b[0mmethod\u001b[0m\u001b[0;34m,\u001b[0m \u001b[0mtolerance\u001b[0m\u001b[0;34m=\u001b[0m\u001b[0mtolerance\u001b[0m\u001b[0;34m)\u001b[0m\u001b[0;34m\u001b[0m\u001b[0;34m\u001b[0m\u001b[0m\n\u001b[1;32m   2661\u001b[0m         \u001b[0;32mif\u001b[0m \u001b[0mindexer\u001b[0m\u001b[0;34m.\u001b[0m\u001b[0mndim\u001b[0m \u001b[0;34m>\u001b[0m \u001b[0;36m1\u001b[0m \u001b[0;32mor\u001b[0m \u001b[0mindexer\u001b[0m\u001b[0;34m.\u001b[0m\u001b[0msize\u001b[0m \u001b[0;34m>\u001b[0m \u001b[0;36m1\u001b[0m\u001b[0;34m:\u001b[0m\u001b[0;34m\u001b[0m\u001b[0;34m\u001b[0m\u001b[0m\n",
      "\u001b[0;32mpandas/_libs/index.pyx\u001b[0m in \u001b[0;36mpandas._libs.index.IndexEngine.get_loc\u001b[0;34m()\u001b[0m\n",
      "\u001b[0;32mpandas/_libs/index.pyx\u001b[0m in \u001b[0;36mpandas._libs.index.IndexEngine.get_loc\u001b[0;34m()\u001b[0m\n",
      "\u001b[0;32mpandas/_libs/hashtable_class_helper.pxi\u001b[0m in \u001b[0;36mpandas._libs.hashtable.PyObjectHashTable.get_item\u001b[0;34m()\u001b[0m\n",
      "\u001b[0;32mpandas/_libs/hashtable_class_helper.pxi\u001b[0m in \u001b[0;36mpandas._libs.hashtable.PyObjectHashTable.get_item\u001b[0;34m()\u001b[0m\n",
      "\u001b[0;31mKeyError\u001b[0m: 'target'"
     ]
    }
   ],
   "source": [
    "y = df.pop('target')\n",
    "X = df"
   ]
  },
  {
   "cell_type": "code",
   "execution_count": 49,
   "id": "sophisticated-arizona",
   "metadata": {},
   "outputs": [
    {
     "data": {
      "text/html": [
       "<div>\n",
       "<style scoped>\n",
       "    .dataframe tbody tr th:only-of-type {\n",
       "        vertical-align: middle;\n",
       "    }\n",
       "\n",
       "    .dataframe tbody tr th {\n",
       "        vertical-align: top;\n",
       "    }\n",
       "\n",
       "    .dataframe thead th {\n",
       "        text-align: right;\n",
       "    }\n",
       "</style>\n",
       "<table border=\"1\" class=\"dataframe\">\n",
       "  <thead>\n",
       "    <tr style=\"text-align: right;\">\n",
       "      <th></th>\n",
       "      <th>epoch_ms</th>\n",
       "      <th>session_id</th>\n",
       "      <th>country_by_ip_address</th>\n",
       "      <th>region_by_ip_address</th>\n",
       "      <th>url_without_parameters</th>\n",
       "      <th>referrer_without_parameters</th>\n",
       "      <th>visitor_recognition_type</th>\n",
       "    </tr>\n",
       "  </thead>\n",
       "  <tbody>\n",
       "    <tr>\n",
       "      <th>0</th>\n",
       "      <td>1520280001034</td>\n",
       "      <td>be73c8d1b836170a21529a1b23140f8e</td>\n",
       "      <td>US</td>\n",
       "      <td>CA</td>\n",
       "      <td>https://www.bol.com/nl/l/nederlandstalige-kuns...</td>\n",
       "      <td>NaN</td>\n",
       "      <td>ANONYMOUS</td>\n",
       "    </tr>\n",
       "    <tr>\n",
       "      <th>1</th>\n",
       "      <td>1520280001590</td>\n",
       "      <td>c24c6637ed7dcbe19ad64056184212a7</td>\n",
       "      <td>US</td>\n",
       "      <td>CA</td>\n",
       "      <td>https://www.bol.com/nl/l/italiaans-natuur-wete...</td>\n",
       "      <td>NaN</td>\n",
       "      <td>ANONYMOUS</td>\n",
       "    </tr>\n",
       "    <tr>\n",
       "      <th>2</th>\n",
       "      <td>1520280002397</td>\n",
       "      <td>ee391655f5680a7bfae0019450aed396</td>\n",
       "      <td>IT</td>\n",
       "      <td>LI</td>\n",
       "      <td>https://www.bol.com/nl/p/nespresso-magimix-ini...</td>\n",
       "      <td>https://www.bol.com/nl/p/nespresso-magimix-ini...</td>\n",
       "      <td>ANONYMOUS</td>\n",
       "    </tr>\n",
       "    <tr>\n",
       "      <th>3</th>\n",
       "      <td>1520280002598</td>\n",
       "      <td>f8c8a696dd37ca88233b2df096afa97f</td>\n",
       "      <td>US</td>\n",
       "      <td>CA</td>\n",
       "      <td>https://www.bol.com/nl/l/nieuwe-engelstalige-o...</td>\n",
       "      <td>NaN</td>\n",
       "      <td>ANONYMOUS</td>\n",
       "    </tr>\n",
       "    <tr>\n",
       "      <th>4</th>\n",
       "      <td>1520280004428</td>\n",
       "      <td>f8b0c06747b7dd1d53c0932306bd04d6</td>\n",
       "      <td>US</td>\n",
       "      <td>CA</td>\n",
       "      <td>https://www.bol.com/nl/l/nieuwe-actie-avontuur...</td>\n",
       "      <td>NaN</td>\n",
       "      <td>ANONYMOUS</td>\n",
       "    </tr>\n",
       "  </tbody>\n",
       "</table>\n",
       "</div>"
      ],
      "text/plain": [
       "        epoch_ms                        session_id country_by_ip_address  \\\n",
       "0  1520280001034  be73c8d1b836170a21529a1b23140f8e                    US   \n",
       "1  1520280001590  c24c6637ed7dcbe19ad64056184212a7                    US   \n",
       "2  1520280002397  ee391655f5680a7bfae0019450aed396                    IT   \n",
       "3  1520280002598  f8c8a696dd37ca88233b2df096afa97f                    US   \n",
       "4  1520280004428  f8b0c06747b7dd1d53c0932306bd04d6                    US   \n",
       "\n",
       "  region_by_ip_address                             url_without_parameters  \\\n",
       "0                   CA  https://www.bol.com/nl/l/nederlandstalige-kuns...   \n",
       "1                   CA  https://www.bol.com/nl/l/italiaans-natuur-wete...   \n",
       "2                   LI  https://www.bol.com/nl/p/nespresso-magimix-ini...   \n",
       "3                   CA  https://www.bol.com/nl/l/nieuwe-engelstalige-o...   \n",
       "4                   CA  https://www.bol.com/nl/l/nieuwe-actie-avontuur...   \n",
       "\n",
       "                         referrer_without_parameters visitor_recognition_type  \n",
       "0                                                NaN                ANONYMOUS  \n",
       "1                                                NaN                ANONYMOUS  \n",
       "2  https://www.bol.com/nl/p/nespresso-magimix-ini...                ANONYMOUS  \n",
       "3                                                NaN                ANONYMOUS  \n",
       "4                                                NaN                ANONYMOUS  "
      ]
     },
     "execution_count": 49,
     "metadata": {},
     "output_type": "execute_result"
    }
   ],
   "source": [
    "df.head()"
   ]
  },
  {
   "cell_type": "code",
   "execution_count": 33,
   "id": "hollow-electric",
   "metadata": {},
   "outputs": [],
   "source": [
    "class CustomTransformer(BaseEstimator, TransformerMixin):\n",
    "    def __init__(self):\n",
    "        return self\n",
    "    \n",
    "    def fit(self, X, y=None):\n",
    "        return self\n",
    "    def transform(self, X, y=None):\n",
    "        X_ = X.copy()\n",
    "        return self"
   ]
  },
  {
   "cell_type": "code",
   "execution_count": 55,
   "id": "capable-motel",
   "metadata": {},
   "outputs": [],
   "source": [
    "class FeatureSelector(BaseEstimator, TransformerMixin):\n",
    "    \"\"\"Transformer that selects a particular feature.\"\"\"\n",
    "\n",
    "    def __init__(self, feature_names):\n",
    "        self.feature_names = feature_names\n",
    "        \n",
    "    def fit(self, X, y=None):\n",
    "        return self\n",
    "        \n",
    "    def transform(self, X):\n",
    "        return X[self.feature_names]"
   ]
  },
  {
   "cell_type": "code",
   "execution_count": 57,
   "id": "differential-sudan",
   "metadata": {},
   "outputs": [],
   "source": [
    "class UrlLength(BaseEstimator, TransformerMixin):\n",
    "    def __init__(self, url):\n",
    "        self.url = url\n",
    "        \n",
    "    def fit(self, X, y=None):\n",
    "        return self\n",
    "        \n",
    "    def transform(self, X):\n",
    "        return len(X[self.url])"
   ]
  },
  {
   "cell_type": "code",
   "execution_count": 58,
   "id": "wound-placement",
   "metadata": {},
   "outputs": [],
   "source": [
    "from sklearn.pipeline import FeatureUnion"
   ]
  },
  {
   "cell_type": "code",
   "execution_count": null,
   "id": "hairy-literature",
   "metadata": {},
   "outputs": [],
   "source": []
  },
  {
   "cell_type": "code",
   "execution_count": null,
   "id": "interracial-classroom",
   "metadata": {},
   "outputs": [],
   "source": []
  },
  {
   "cell_type": "code",
   "execution_count": 61,
   "id": "apart-pharmacy",
   "metadata": {},
   "outputs": [
    {
     "data": {
      "text/plain": [
       "49886"
      ]
     },
     "execution_count": 61,
     "metadata": {},
     "output_type": "execute_result"
    }
   ],
   "source": [
    "url_pipeline = Pipeline([\n",
    "    ('selector', FeatureSelector(['url_without_parameters'])),\n",
    "    (\"length\", UrlLength('url_without_parameters'))\n",
    "])\n",
    "\n",
    "url_pipeline.fit_transform(X, y)"
   ]
  },
  {
   "cell_type": "code",
   "execution_count": null,
   "id": "portuguese-happening",
   "metadata": {},
   "outputs": [],
   "source": []
  },
  {
   "cell_type": "code",
   "execution_count": null,
   "id": "fatal-singer",
   "metadata": {},
   "outputs": [],
   "source": []
  },
  {
   "cell_type": "code",
   "execution_count": null,
   "id": "monetary-linux",
   "metadata": {},
   "outputs": [],
   "source": []
  },
  {
   "cell_type": "code",
   "execution_count": 121,
   "id": "floppy-engineer",
   "metadata": {},
   "outputs": [],
   "source": [
    "df = df.drop(columns=['epoch_ms', 'session_id', 'region_by_ip_address', 'referrer_without_parameters', 'url_without_parameters'])"
   ]
  },
  {
   "cell_type": "code",
   "execution_count": 122,
   "id": "fifty-amazon",
   "metadata": {},
   "outputs": [
    {
     "data": {
      "text/html": [
       "<div>\n",
       "<style scoped>\n",
       "    .dataframe tbody tr th:only-of-type {\n",
       "        vertical-align: middle;\n",
       "    }\n",
       "\n",
       "    .dataframe tbody tr th {\n",
       "        vertical-align: top;\n",
       "    }\n",
       "\n",
       "    .dataframe thead th {\n",
       "        text-align: right;\n",
       "    }\n",
       "</style>\n",
       "<table border=\"1\" class=\"dataframe\">\n",
       "  <thead>\n",
       "    <tr style=\"text-align: right;\">\n",
       "      <th></th>\n",
       "      <th>country_by_ip_address</th>\n",
       "      <th>visitor_recognition_type</th>\n",
       "      <th>ua_agent_class</th>\n",
       "    </tr>\n",
       "  </thead>\n",
       "  <tbody>\n",
       "    <tr>\n",
       "      <th>0</th>\n",
       "      <td>US</td>\n",
       "      <td>ANONYMOUS</td>\n",
       "      <td>Robot</td>\n",
       "    </tr>\n",
       "    <tr>\n",
       "      <th>1</th>\n",
       "      <td>US</td>\n",
       "      <td>ANONYMOUS</td>\n",
       "      <td>Robot</td>\n",
       "    </tr>\n",
       "    <tr>\n",
       "      <th>2</th>\n",
       "      <td>IT</td>\n",
       "      <td>ANONYMOUS</td>\n",
       "      <td>Browser</td>\n",
       "    </tr>\n",
       "    <tr>\n",
       "      <th>3</th>\n",
       "      <td>US</td>\n",
       "      <td>ANONYMOUS</td>\n",
       "      <td>Robot</td>\n",
       "    </tr>\n",
       "    <tr>\n",
       "      <th>4</th>\n",
       "      <td>US</td>\n",
       "      <td>ANONYMOUS</td>\n",
       "      <td>Robot Mobile</td>\n",
       "    </tr>\n",
       "  </tbody>\n",
       "</table>\n",
       "</div>"
      ],
      "text/plain": [
       "  country_by_ip_address visitor_recognition_type ua_agent_class\n",
       "0                    US                ANONYMOUS          Robot\n",
       "1                    US                ANONYMOUS          Robot\n",
       "2                    IT                ANONYMOUS        Browser\n",
       "3                    US                ANONYMOUS          Robot\n",
       "4                    US                ANONYMOUS   Robot Mobile"
      ]
     },
     "execution_count": 122,
     "metadata": {},
     "output_type": "execute_result"
    }
   ],
   "source": [
    "df.head()"
   ]
  },
  {
   "cell_type": "markdown",
   "id": "coupled-destruction",
   "metadata": {},
   "source": [
    "# Prepare data for ML algorithm"
   ]
  },
  {
   "cell_type": "code",
   "execution_count": 135,
   "id": "controversial-wallace",
   "metadata": {},
   "outputs": [],
   "source": [
    "X_train, X_test, y_train, y_test = train_test_split(df, y, test_size=0.30)"
   ]
  },
  {
   "cell_type": "code",
   "execution_count": 144,
   "id": "favorite-swiss",
   "metadata": {},
   "outputs": [],
   "source": [
    "pipe = Pipeline([\n",
    "    ('ohe', OneHotEncoder(handle_unknown='ignore')), \n",
    "    ('clf', RandomForestClassifier(n_estimators=10))\n",
    "])"
   ]
  },
  {
   "cell_type": "code",
   "execution_count": 145,
   "id": "classified-pathology",
   "metadata": {},
   "outputs": [
    {
     "data": {
      "text/plain": [
       "Pipeline(memory=None,\n",
       "         steps=[('ohe',\n",
       "                 OneHotEncoder(categorical_features=None, categories=None,\n",
       "                               drop=None, dtype=<class 'numpy.float64'>,\n",
       "                               handle_unknown='ignore', n_values=None,\n",
       "                               sparse=True)),\n",
       "                ('clf',\n",
       "                 RandomForestClassifier(bootstrap=True, class_weight=None,\n",
       "                                        criterion='gini', max_depth=None,\n",
       "                                        max_features='auto',\n",
       "                                        max_leaf_nodes=None,\n",
       "                                        min_impurity_decrease=0.0,\n",
       "                                        min_impurity_split=None,\n",
       "                                        min_samples_leaf=1, min_samples_split=2,\n",
       "                                        min_weight_fraction_leaf=0.0,\n",
       "                                        n_estimators=10, n_jobs=None,\n",
       "                                        oob_score=False, random_state=None,\n",
       "                                        verbose=0, warm_start=False))],\n",
       "         verbose=False)"
      ]
     },
     "execution_count": 145,
     "metadata": {},
     "output_type": "execute_result"
    }
   ],
   "source": [
    "pipe.fit(X_train, y_train)"
   ]
  },
  {
   "cell_type": "code",
   "execution_count": 146,
   "id": "certified-luther",
   "metadata": {},
   "outputs": [],
   "source": [
    "train_acc = pipe.score(X_train, y_train)\n",
    "test_acc = pipe.score(X_test, y_test)"
   ]
  },
  {
   "cell_type": "code",
   "execution_count": 148,
   "id": "current-incident",
   "metadata": {},
   "outputs": [
    {
     "name": "stdout",
     "output_type": "stream",
     "text": [
      "Accuracy on train set: 0.959077892325315\n",
      "Accuracy on test set: 0.9573032206334358\n"
     ]
    }
   ],
   "source": [
    "print(\"Accuracy on train set:\", train_acc)\n",
    "print(\"Accuracy on test set:\", test_acc)"
   ]
  },
  {
   "cell_type": "code",
   "execution_count": null,
   "id": "african-carolina",
   "metadata": {},
   "outputs": [],
   "source": []
  }
 ],
 "metadata": {
  "kernelspec": {
   "display_name": "Python 3",
   "language": "python",
   "name": "python3"
  },
  "language_info": {
   "codemirror_mode": {
    "name": "ipython",
    "version": 3
   },
   "file_extension": ".py",
   "mimetype": "text/x-python",
   "name": "python",
   "nbconvert_exporter": "python",
   "pygments_lexer": "ipython3",
   "version": "3.7.3"
  }
 },
 "nbformat": 4,
 "nbformat_minor": 5
}
