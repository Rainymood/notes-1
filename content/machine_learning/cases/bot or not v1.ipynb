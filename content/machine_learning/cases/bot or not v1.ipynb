{
 "cells": [
  {
   "cell_type": "markdown",
   "id": "prescribed-burke",
   "metadata": {},
   "source": [
    "Idea parking space:\n",
    "\n",
    "* Extract features from URL\n",
    "\n",
    "\n",
    "\n",
    "What I've done so far: \n",
    "\n",
    "* Load in the data\n",
    "* Inspect the data\n",
    "* Look for unique values with (`df.value_counts`)\n",
    "* Look for missing values with `df.info`\n",
    "* Drop na values (todo: refactor this in pipeline)\n",
    "* Create targets and remove from df"
   ]
  },
  {
   "cell_type": "code",
   "execution_count": 115,
   "id": "respiratory-vault",
   "metadata": {},
   "outputs": [],
   "source": [
    "import pandas as pd\n",
    "import numpy as np\n",
    "import os"
   ]
  },
  {
   "cell_type": "code",
   "execution_count": 116,
   "id": "arranged-chair",
   "metadata": {},
   "outputs": [],
   "source": [
    "filename = \"../../../data/bot-or-not-clickdata.csv\""
   ]
  },
  {
   "cell_type": "code",
   "execution_count": 117,
   "id": "embedded-regression",
   "metadata": {},
   "outputs": [],
   "source": [
    "df = pd.read_csv(filename)"
   ]
  },
  {
   "cell_type": "markdown",
   "id": "experimental-graphic",
   "metadata": {},
   "source": [
    "Data: \n",
    "\n",
    "* `epoch_ms`\n",
    "* `session_id`\n",
    "* `country_by_ip_address`\n",
    "* `region_by_ip_address`\n",
    "* `url_without_parameters`\n",
    "* `referrer_without_parameters`\n",
    "* `visitor_recognition_type`\n",
    "* `ua_agent_class`\n"
   ]
  },
  {
   "cell_type": "code",
   "execution_count": 118,
   "id": "deadly-crawford",
   "metadata": {},
   "outputs": [
    {
     "data": {
      "text/html": [
       "<div>\n",
       "<style scoped>\n",
       "    .dataframe tbody tr th:only-of-type {\n",
       "        vertical-align: middle;\n",
       "    }\n",
       "\n",
       "    .dataframe tbody tr th {\n",
       "        vertical-align: top;\n",
       "    }\n",
       "\n",
       "    .dataframe thead th {\n",
       "        text-align: right;\n",
       "    }\n",
       "</style>\n",
       "<table border=\"1\" class=\"dataframe\">\n",
       "  <thead>\n",
       "    <tr style=\"text-align: right;\">\n",
       "      <th></th>\n",
       "      <th>epoch_ms</th>\n",
       "      <th>session_id</th>\n",
       "      <th>country_by_ip_address</th>\n",
       "      <th>region_by_ip_address</th>\n",
       "      <th>url_without_parameters</th>\n",
       "      <th>referrer_without_parameters</th>\n",
       "      <th>visitor_recognition_type</th>\n",
       "      <th>ua_agent_class</th>\n",
       "    </tr>\n",
       "  </thead>\n",
       "  <tbody>\n",
       "    <tr>\n",
       "      <th>0</th>\n",
       "      <td>1520280001034</td>\n",
       "      <td>be73c8d1b836170a21529a1b23140f8e</td>\n",
       "      <td>US</td>\n",
       "      <td>CA</td>\n",
       "      <td>https://www.bol.com/nl/l/nederlandstalige-kuns...</td>\n",
       "      <td>NaN</td>\n",
       "      <td>ANONYMOUS</td>\n",
       "      <td>Robot</td>\n",
       "    </tr>\n",
       "    <tr>\n",
       "      <th>1</th>\n",
       "      <td>1520280001590</td>\n",
       "      <td>c24c6637ed7dcbe19ad64056184212a7</td>\n",
       "      <td>US</td>\n",
       "      <td>CA</td>\n",
       "      <td>https://www.bol.com/nl/l/italiaans-natuur-wete...</td>\n",
       "      <td>NaN</td>\n",
       "      <td>ANONYMOUS</td>\n",
       "      <td>Robot</td>\n",
       "    </tr>\n",
       "    <tr>\n",
       "      <th>2</th>\n",
       "      <td>1520280002397</td>\n",
       "      <td>ee391655f5680a7bfae0019450aed396</td>\n",
       "      <td>IT</td>\n",
       "      <td>LI</td>\n",
       "      <td>https://www.bol.com/nl/p/nespresso-magimix-ini...</td>\n",
       "      <td>https://www.bol.com/nl/p/nespresso-magimix-ini...</td>\n",
       "      <td>ANONYMOUS</td>\n",
       "      <td>Browser</td>\n",
       "    </tr>\n",
       "    <tr>\n",
       "      <th>3</th>\n",
       "      <td>1520280002598</td>\n",
       "      <td>f8c8a696dd37ca88233b2df096afa97f</td>\n",
       "      <td>US</td>\n",
       "      <td>CA</td>\n",
       "      <td>https://www.bol.com/nl/l/nieuwe-engelstalige-o...</td>\n",
       "      <td>NaN</td>\n",
       "      <td>ANONYMOUS</td>\n",
       "      <td>Robot</td>\n",
       "    </tr>\n",
       "    <tr>\n",
       "      <th>4</th>\n",
       "      <td>1520280004428</td>\n",
       "      <td>f8b0c06747b7dd1d53c0932306bd04d6</td>\n",
       "      <td>US</td>\n",
       "      <td>CA</td>\n",
       "      <td>https://www.bol.com/nl/l/nieuwe-actie-avontuur...</td>\n",
       "      <td>NaN</td>\n",
       "      <td>ANONYMOUS</td>\n",
       "      <td>Robot Mobile</td>\n",
       "    </tr>\n",
       "  </tbody>\n",
       "</table>\n",
       "</div>"
      ],
      "text/plain": [
       "        epoch_ms                        session_id country_by_ip_address  \\\n",
       "0  1520280001034  be73c8d1b836170a21529a1b23140f8e                    US   \n",
       "1  1520280001590  c24c6637ed7dcbe19ad64056184212a7                    US   \n",
       "2  1520280002397  ee391655f5680a7bfae0019450aed396                    IT   \n",
       "3  1520280002598  f8c8a696dd37ca88233b2df096afa97f                    US   \n",
       "4  1520280004428  f8b0c06747b7dd1d53c0932306bd04d6                    US   \n",
       "\n",
       "  region_by_ip_address                             url_without_parameters  \\\n",
       "0                   CA  https://www.bol.com/nl/l/nederlandstalige-kuns...   \n",
       "1                   CA  https://www.bol.com/nl/l/italiaans-natuur-wete...   \n",
       "2                   LI  https://www.bol.com/nl/p/nespresso-magimix-ini...   \n",
       "3                   CA  https://www.bol.com/nl/l/nieuwe-engelstalige-o...   \n",
       "4                   CA  https://www.bol.com/nl/l/nieuwe-actie-avontuur...   \n",
       "\n",
       "                         referrer_without_parameters visitor_recognition_type  \\\n",
       "0                                                NaN                ANONYMOUS   \n",
       "1                                                NaN                ANONYMOUS   \n",
       "2  https://www.bol.com/nl/p/nespresso-magimix-ini...                ANONYMOUS   \n",
       "3                                                NaN                ANONYMOUS   \n",
       "4                                                NaN                ANONYMOUS   \n",
       "\n",
       "  ua_agent_class  \n",
       "0          Robot  \n",
       "1          Robot  \n",
       "2        Browser  \n",
       "3          Robot  \n",
       "4   Robot Mobile  "
      ]
     },
     "execution_count": 118,
     "metadata": {},
     "output_type": "execute_result"
    }
   ],
   "source": [
    "df.head()"
   ]
  },
  {
   "cell_type": "code",
   "execution_count": 119,
   "id": "liberal-exclusion",
   "metadata": {},
   "outputs": [],
   "source": [
    "mask = df['region_by_ip_address'].isnull()\n",
    "df = df.loc[~mask]"
   ]
  },
  {
   "cell_type": "markdown",
   "id": "psychological-fence",
   "metadata": {},
   "source": [
    "Let's check for missing data with `df.info()`"
   ]
  },
  {
   "cell_type": "code",
   "execution_count": 120,
   "id": "taken-support",
   "metadata": {},
   "outputs": [
    {
     "name": "stdout",
     "output_type": "stream",
     "text": [
      "<class 'pandas.core.frame.DataFrame'>\n",
      "Int64Index: 49886 entries, 0 to 59780\n",
      "Data columns (total 8 columns):\n",
      "epoch_ms                       49886 non-null int64\n",
      "session_id                     49886 non-null object\n",
      "country_by_ip_address          49886 non-null object\n",
      "region_by_ip_address           49886 non-null object\n",
      "url_without_parameters         49886 non-null object\n",
      "referrer_without_parameters    12838 non-null object\n",
      "visitor_recognition_type       49886 non-null object\n",
      "ua_agent_class                 49886 non-null object\n",
      "dtypes: int64(1), object(7)\n",
      "memory usage: 3.4+ MB\n"
     ]
    }
   ],
   "source": [
    "df.info()"
   ]
  },
  {
   "cell_type": "markdown",
   "id": "elegant-escape",
   "metadata": {},
   "source": [
    "We have some missing values in: \n",
    "* `country`\n",
    "* `region`\n",
    "* `referrer_without_parameters`"
   ]
  },
  {
   "cell_type": "markdown",
   "id": "provincial-translation",
   "metadata": {},
   "source": [
    "First come up with a very simple model. \n",
    "\n",
    "* We drop the column `region_by_ip_address`\n",
    "* We drop the column `referrer_without_parameters`"
   ]
  },
  {
   "cell_type": "code",
   "execution_count": 121,
   "id": "floppy-engineer",
   "metadata": {},
   "outputs": [],
   "source": [
    "df = df.drop(columns=['epoch_ms', 'session_id', 'region_by_ip_address', 'referrer_without_parameters', 'url_without_parameters'])"
   ]
  },
  {
   "cell_type": "code",
   "execution_count": 122,
   "id": "fifty-amazon",
   "metadata": {},
   "outputs": [
    {
     "data": {
      "text/html": [
       "<div>\n",
       "<style scoped>\n",
       "    .dataframe tbody tr th:only-of-type {\n",
       "        vertical-align: middle;\n",
       "    }\n",
       "\n",
       "    .dataframe tbody tr th {\n",
       "        vertical-align: top;\n",
       "    }\n",
       "\n",
       "    .dataframe thead th {\n",
       "        text-align: right;\n",
       "    }\n",
       "</style>\n",
       "<table border=\"1\" class=\"dataframe\">\n",
       "  <thead>\n",
       "    <tr style=\"text-align: right;\">\n",
       "      <th></th>\n",
       "      <th>country_by_ip_address</th>\n",
       "      <th>visitor_recognition_type</th>\n",
       "      <th>ua_agent_class</th>\n",
       "    </tr>\n",
       "  </thead>\n",
       "  <tbody>\n",
       "    <tr>\n",
       "      <th>0</th>\n",
       "      <td>US</td>\n",
       "      <td>ANONYMOUS</td>\n",
       "      <td>Robot</td>\n",
       "    </tr>\n",
       "    <tr>\n",
       "      <th>1</th>\n",
       "      <td>US</td>\n",
       "      <td>ANONYMOUS</td>\n",
       "      <td>Robot</td>\n",
       "    </tr>\n",
       "    <tr>\n",
       "      <th>2</th>\n",
       "      <td>IT</td>\n",
       "      <td>ANONYMOUS</td>\n",
       "      <td>Browser</td>\n",
       "    </tr>\n",
       "    <tr>\n",
       "      <th>3</th>\n",
       "      <td>US</td>\n",
       "      <td>ANONYMOUS</td>\n",
       "      <td>Robot</td>\n",
       "    </tr>\n",
       "    <tr>\n",
       "      <th>4</th>\n",
       "      <td>US</td>\n",
       "      <td>ANONYMOUS</td>\n",
       "      <td>Robot Mobile</td>\n",
       "    </tr>\n",
       "  </tbody>\n",
       "</table>\n",
       "</div>"
      ],
      "text/plain": [
       "  country_by_ip_address visitor_recognition_type ua_agent_class\n",
       "0                    US                ANONYMOUS          Robot\n",
       "1                    US                ANONYMOUS          Robot\n",
       "2                    IT                ANONYMOUS        Browser\n",
       "3                    US                ANONYMOUS          Robot\n",
       "4                    US                ANONYMOUS   Robot Mobile"
      ]
     },
     "execution_count": 122,
     "metadata": {},
     "output_type": "execute_result"
    }
   ],
   "source": [
    "df.head()"
   ]
  },
  {
   "cell_type": "markdown",
   "id": "coupled-destruction",
   "metadata": {},
   "source": [
    "# Construct target label"
   ]
  },
  {
   "cell_type": "markdown",
   "id": "stylish-radius",
   "metadata": {},
   "source": [
    "Gaan we eerst kijken welke categorieen er in zitten `ua_agent_class`"
   ]
  },
  {
   "cell_type": "code",
   "execution_count": 123,
   "id": "recent-costa",
   "metadata": {},
   "outputs": [
    {
     "data": {
      "text/plain": [
       "Browser              26667\n",
       "Robot                15852\n",
       "Robot Mobile          5115\n",
       "Browser Webview       1454\n",
       "Hacker                 690\n",
       "Special                102\n",
       "Mobile App               4\n",
       "Cloud Application        2\n",
       "Name: ua_agent_class, dtype: int64"
      ]
     },
     "execution_count": 123,
     "metadata": {},
     "output_type": "execute_result"
    }
   ],
   "source": [
    "df['ua_agent_class'].value_counts()"
   ]
  },
  {
   "cell_type": "code",
   "execution_count": 124,
   "id": "original-tactics",
   "metadata": {},
   "outputs": [],
   "source": [
    "def class_to_bot(agent):\n",
    "    if agent in [\"Robot\", \"Robot Mobile\", \"Special\", \"Cloud Application\"]: \n",
    "        return 1\n",
    "    else: \n",
    "        return 0\n",
    "    \n",
    "y = df['ua_agent_class'].apply(class_to_bot)"
   ]
  },
  {
   "cell_type": "code",
   "execution_count": 125,
   "id": "serious-action",
   "metadata": {},
   "outputs": [],
   "source": [
    "df = df.drop(columns=['ua_agent_class'])"
   ]
  },
  {
   "cell_type": "code",
   "execution_count": 126,
   "id": "designed-season",
   "metadata": {},
   "outputs": [],
   "source": [
    "from sklearn.model_selection import train_test_split"
   ]
  },
  {
   "cell_type": "code",
   "execution_count": 135,
   "id": "controversial-wallace",
   "metadata": {},
   "outputs": [],
   "source": [
    "X_train, X_test, y_train, y_test = train_test_split(df, y, test_size=0.30)"
   ]
  },
  {
   "cell_type": "markdown",
   "id": "informational-jesus",
   "metadata": {},
   "source": [
    "# Construct X variables"
   ]
  },
  {
   "cell_type": "code",
   "execution_count": 136,
   "id": "qualified-least",
   "metadata": {},
   "outputs": [],
   "source": [
    "from sklearn.preprocessing import OneHotEncoder\n",
    "from sklearn.pipeline import Pipeline\n",
    "from sklearn.ensemble import RandomForestClassifier"
   ]
  },
  {
   "cell_type": "code",
   "execution_count": 144,
   "id": "favorite-swiss",
   "metadata": {},
   "outputs": [],
   "source": [
    "pipe = Pipeline([\n",
    "    ('ohe', OneHotEncoder(handle_unknown='ignore')), \n",
    "    ('clf', RandomForestClassifier(n_estimators=10))\n",
    "])"
   ]
  },
  {
   "cell_type": "code",
   "execution_count": 145,
   "id": "classified-pathology",
   "metadata": {},
   "outputs": [
    {
     "data": {
      "text/plain": [
       "Pipeline(memory=None,\n",
       "         steps=[('ohe',\n",
       "                 OneHotEncoder(categorical_features=None, categories=None,\n",
       "                               drop=None, dtype=<class 'numpy.float64'>,\n",
       "                               handle_unknown='ignore', n_values=None,\n",
       "                               sparse=True)),\n",
       "                ('clf',\n",
       "                 RandomForestClassifier(bootstrap=True, class_weight=None,\n",
       "                                        criterion='gini', max_depth=None,\n",
       "                                        max_features='auto',\n",
       "                                        max_leaf_nodes=None,\n",
       "                                        min_impurity_decrease=0.0,\n",
       "                                        min_impurity_split=None,\n",
       "                                        min_samples_leaf=1, min_samples_split=2,\n",
       "                                        min_weight_fraction_leaf=0.0,\n",
       "                                        n_estimators=10, n_jobs=None,\n",
       "                                        oob_score=False, random_state=None,\n",
       "                                        verbose=0, warm_start=False))],\n",
       "         verbose=False)"
      ]
     },
     "execution_count": 145,
     "metadata": {},
     "output_type": "execute_result"
    }
   ],
   "source": [
    "pipe.fit(X_train, y_train)"
   ]
  },
  {
   "cell_type": "code",
   "execution_count": 146,
   "id": "certified-luther",
   "metadata": {},
   "outputs": [],
   "source": [
    "train_acc = pipe.score(X_train, y_train)\n",
    "test_acc = pipe.score(X_test, y_test)"
   ]
  },
  {
   "cell_type": "code",
   "execution_count": 148,
   "id": "current-incident",
   "metadata": {},
   "outputs": [
    {
     "name": "stdout",
     "output_type": "stream",
     "text": [
      "Accuracy on train set: 0.959077892325315\n",
      "Accuracy on test set: 0.9573032206334358\n"
     ]
    }
   ],
   "source": [
    "print(\"Accuracy on train set:\", train_acc)\n",
    "print(\"Accuracy on test set:\", test_acc)"
   ]
  },
  {
   "cell_type": "code",
   "execution_count": 151,
   "id": "african-carolina",
   "metadata": {},
   "outputs": [],
   "source": [
    "from sklearn.model_selection import GridSearchCV"
   ]
  },
  {
   "cell_type": "markdown",
   "id": "assigned-forth",
   "metadata": {},
   "source": [
    "First we view the parameters with pipeline `params()`"
   ]
  },
  {
   "cell_type": "code",
   "execution_count": 153,
   "id": "adequate-single",
   "metadata": {},
   "outputs": [
    {
     "data": {
      "text/plain": [
       "{'memory': None,\n",
       " 'steps': [('ohe',\n",
       "   OneHotEncoder(categorical_features=None, categories=None, drop=None,\n",
       "                 dtype=<class 'numpy.float64'>, handle_unknown='ignore',\n",
       "                 n_values=None, sparse=True)),\n",
       "  ('clf',\n",
       "   RandomForestClassifier(bootstrap=True, class_weight=None, criterion='gini',\n",
       "                          max_depth=None, max_features='auto', max_leaf_nodes=None,\n",
       "                          min_impurity_decrease=0.0, min_impurity_split=None,\n",
       "                          min_samples_leaf=1, min_samples_split=2,\n",
       "                          min_weight_fraction_leaf=0.0, n_estimators=10,\n",
       "                          n_jobs=None, oob_score=False, random_state=None,\n",
       "                          verbose=0, warm_start=False))],\n",
       " 'verbose': False,\n",
       " 'ohe': OneHotEncoder(categorical_features=None, categories=None, drop=None,\n",
       "               dtype=<class 'numpy.float64'>, handle_unknown='ignore',\n",
       "               n_values=None, sparse=True),\n",
       " 'clf': RandomForestClassifier(bootstrap=True, class_weight=None, criterion='gini',\n",
       "                        max_depth=None, max_features='auto', max_leaf_nodes=None,\n",
       "                        min_impurity_decrease=0.0, min_impurity_split=None,\n",
       "                        min_samples_leaf=1, min_samples_split=2,\n",
       "                        min_weight_fraction_leaf=0.0, n_estimators=10,\n",
       "                        n_jobs=None, oob_score=False, random_state=None,\n",
       "                        verbose=0, warm_start=False),\n",
       " 'ohe__categorical_features': None,\n",
       " 'ohe__categories': None,\n",
       " 'ohe__drop': None,\n",
       " 'ohe__dtype': numpy.float64,\n",
       " 'ohe__handle_unknown': 'ignore',\n",
       " 'ohe__n_values': None,\n",
       " 'ohe__sparse': True,\n",
       " 'clf__bootstrap': True,\n",
       " 'clf__class_weight': None,\n",
       " 'clf__criterion': 'gini',\n",
       " 'clf__max_depth': None,\n",
       " 'clf__max_features': 'auto',\n",
       " 'clf__max_leaf_nodes': None,\n",
       " 'clf__min_impurity_decrease': 0.0,\n",
       " 'clf__min_impurity_split': None,\n",
       " 'clf__min_samples_leaf': 1,\n",
       " 'clf__min_samples_split': 2,\n",
       " 'clf__min_weight_fraction_leaf': 0.0,\n",
       " 'clf__n_estimators': 10,\n",
       " 'clf__n_jobs': None,\n",
       " 'clf__oob_score': False,\n",
       " 'clf__random_state': None,\n",
       " 'clf__verbose': 0,\n",
       " 'clf__warm_start': False}"
      ]
     },
     "execution_count": 153,
     "metadata": {},
     "output_type": "execute_result"
    }
   ],
   "source": [
    "pipe.get_params()"
   ]
  },
  {
   "cell_type": "markdown",
   "id": "aquatic-softball",
   "metadata": {},
   "source": [
    "# Gridsearch"
   ]
  },
  {
   "cell_type": "markdown",
   "id": "irish-nicaragua",
   "metadata": {},
   "source": [
    "We decide to iterate over `min_samples_split`"
   ]
  },
  {
   "cell_type": "code",
   "execution_count": 157,
   "id": "surprised-values",
   "metadata": {},
   "outputs": [],
   "source": [
    "params = {\n",
    "    'clf__min_samples_split': [2, 5, 10, 20, 50, 100, 200, 300]\n",
    "}"
   ]
  },
  {
   "cell_type": "code",
   "execution_count": 172,
   "id": "potential-professional",
   "metadata": {},
   "outputs": [],
   "source": [
    "# Make sure to enable return train score!!\n",
    "clf = GridSearchCV(estimator=pipe, param_grid=params, return_train_score=True)"
   ]
  },
  {
   "cell_type": "code",
   "execution_count": 173,
   "id": "higher-contrast",
   "metadata": {},
   "outputs": [
    {
     "name": "stderr",
     "output_type": "stream",
     "text": [
      "/Library/Frameworks/Python.framework/Versions/3.7/lib/python3.7/site-packages/sklearn/model_selection/_split.py:1978: FutureWarning: The default value of cv will change from 3 to 5 in version 0.22. Specify it explicitly to silence this warning.\n",
      "  warnings.warn(CV_WARNING, FutureWarning)\n"
     ]
    },
    {
     "data": {
      "text/plain": [
       "GridSearchCV(cv='warn', error_score='raise-deprecating',\n",
       "             estimator=Pipeline(memory=None,\n",
       "                                steps=[('ohe',\n",
       "                                        OneHotEncoder(categorical_features=None,\n",
       "                                                      categories=None,\n",
       "                                                      drop=None,\n",
       "                                                      dtype=<class 'numpy.float64'>,\n",
       "                                                      handle_unknown='ignore',\n",
       "                                                      n_values=None,\n",
       "                                                      sparse=True)),\n",
       "                                       ('clf',\n",
       "                                        RandomForestClassifier(bootstrap=True,\n",
       "                                                               class_weight=None,\n",
       "                                                               criterion='gini',\n",
       "                                                               max_depth=None,\n",
       "                                                               max_feat...\n",
       "                                                               min_impurity_split=None,\n",
       "                                                               min_samples_leaf=1,\n",
       "                                                               min_samples_split=2,\n",
       "                                                               min_weight_fraction_leaf=0.0,\n",
       "                                                               n_estimators=10,\n",
       "                                                               n_jobs=None,\n",
       "                                                               oob_score=False,\n",
       "                                                               random_state=None,\n",
       "                                                               verbose=0,\n",
       "                                                               warm_start=False))],\n",
       "                                verbose=False),\n",
       "             iid='warn', n_jobs=None,\n",
       "             param_grid={'clf__min_samples_split': [2, 5, 10, 20, 50, 100, 200,\n",
       "                                                    300]},\n",
       "             pre_dispatch='2*n_jobs', refit=True, return_train_score=True,\n",
       "             scoring=None, verbose=0)"
      ]
     },
     "execution_count": 173,
     "metadata": {},
     "output_type": "execute_result"
    }
   ],
   "source": [
    "clf.fit(X_train, y_train)"
   ]
  },
  {
   "cell_type": "code",
   "execution_count": 174,
   "id": "cutting-compilation",
   "metadata": {},
   "outputs": [
    {
     "data": {
      "text/plain": [
       "{'mean_fit_time': array([0.08140779, 0.0723687 , 0.07732868, 0.07200956, 0.07382631,\n",
       "        0.07346471, 0.07426643, 0.07048337]),\n",
       " 'std_fit_time': array([0.00828772, 0.00155878, 0.00283014, 0.00098001, 0.00078882,\n",
       "        0.003388  , 0.00665328, 0.00153472]),\n",
       " 'mean_score_time': array([0.02136421, 0.01732802, 0.01892432, 0.01760372, 0.01804161,\n",
       "        0.01736848, 0.01846957, 0.0179704 ]),\n",
       " 'std_score_time': array([0.00268588, 0.0005123 , 0.0013419 , 0.00027283, 0.00063057,\n",
       "        0.00024499, 0.00161849, 0.00074996]),\n",
       " 'param_clf__min_samples_split': masked_array(data=[2, 5, 10, 20, 50, 100, 200, 300],\n",
       "              mask=[False, False, False, False, False, False, False, False],\n",
       "        fill_value='?',\n",
       "             dtype=object),\n",
       " 'params': [{'clf__min_samples_split': 2},\n",
       "  {'clf__min_samples_split': 5},\n",
       "  {'clf__min_samples_split': 10},\n",
       "  {'clf__min_samples_split': 20},\n",
       "  {'clf__min_samples_split': 50},\n",
       "  {'clf__min_samples_split': 100},\n",
       "  {'clf__min_samples_split': 200},\n",
       "  {'clf__min_samples_split': 300}],\n",
       " 'split0_test_score': array([0.95867698, 0.95867698, 0.95867698, 0.95867698, 0.95867698,\n",
       "        0.95867698, 0.95867698, 0.95867698]),\n",
       " 'split1_test_score': array([0.96091065, 0.96082474, 0.96082474, 0.96082474, 0.96082474,\n",
       "        0.96091065, 0.96082474, 0.96082474]),\n",
       " 'split2_test_score': array([0.95756014, 0.95764605, 0.95756014, 0.95764605, 0.95764605,\n",
       "        0.95764605, 0.95756014, 0.95756014]),\n",
       " 'mean_test_score': array([0.95904926, 0.95904926, 0.95902062, 0.95904926, 0.95904926,\n",
       "        0.95907789, 0.95902062, 0.95902062]),\n",
       " 'std_test_score': array([0.00139294, 0.00132413, 0.00135474, 0.00132413, 0.00132413,\n",
       "        0.00136259, 0.00135474, 0.00135474]),\n",
       " 'rank_test_score': array([2, 2, 6, 2, 2, 1, 6, 6], dtype=int32),\n",
       " 'split0_train_score': array([0.95927835, 0.95927835, 0.95927835, 0.95927835, 0.95927835,\n",
       "        0.95927835, 0.95927835, 0.95919244]),\n",
       " 'split1_train_score': array([0.95816151, 0.95811856, 0.95811856, 0.95811856, 0.95811856,\n",
       "        0.95816151, 0.95811856, 0.95811856]),\n",
       " 'split2_train_score': array([0.95975086, 0.95979381, 0.95975086, 0.95979381, 0.95979381,\n",
       "        0.95979381, 0.95975086, 0.95975086]),\n",
       " 'mean_train_score': array([0.95906357, 0.95906357, 0.95904926, 0.95906357, 0.95906357,\n",
       "        0.95907789, 0.95904926, 0.95902062]),\n",
       " 'std_train_score': array([0.00066638, 0.00070058, 0.00068579, 0.00070058, 0.00070058,\n",
       "        0.00068129, 0.00068579, 0.00067737])}"
      ]
     },
     "execution_count": 174,
     "metadata": {},
     "output_type": "execute_result"
    }
   ],
   "source": [
    "clf.cv_results_"
   ]
  },
  {
   "cell_type": "code",
   "execution_count": 175,
   "id": "matched-wholesale",
   "metadata": {},
   "outputs": [],
   "source": [
    "results = clf.cv_results_"
   ]
  },
  {
   "cell_type": "code",
   "execution_count": 176,
   "id": "spanish-narrow",
   "metadata": {},
   "outputs": [],
   "source": [
    "import matplotlib.pyplot as plt"
   ]
  },
  {
   "cell_type": "code",
   "execution_count": 184,
   "id": "vulnerable-relative",
   "metadata": {},
   "outputs": [
    {
     "name": "stdout",
     "output_type": "stream",
     "text": [
      "Sample score mean [0.95906357 0.95906357 0.95904926 0.95906357 0.95906357 0.95907789\n",
      " 0.95904926 0.95902062]\n",
      "Sample score std [0.00066638 0.00070058 0.00068579 0.00070058 0.00070058 0.00068129\n",
      " 0.00068579 0.00067737]\n",
      "Sample score mean [0.95904926 0.95904926 0.95902062 0.95904926 0.95904926 0.95907789\n",
      " 0.95902062 0.95902062]\n",
      "Sample score std [0.00139294 0.00132413 0.00135474 0.00132413 0.00132413 0.00136259\n",
      " 0.00135474 0.00135474]\n"
     ]
    },
    {
     "data": {
      "image/png": "[encoded data removed]",
      "text/plain": [
       "<Figure size 936x936 with 1 Axes>"
      ]
     },
     "metadata": {
      "needs_background": "light"
     },
     "output_type": "display_data"
    }
   ],
   "source": [
    "plt.figure(figsize=(13, 13))\n",
    "plt.title(\"GridSearchCV evaluating min_samples_split\", fontsize=16)\n",
    "\n",
    "plt.xlabel(\"min_samples_split\")\n",
    "plt.ylabel(\"Score\")\n",
    "\n",
    "ax = plt.gca()\n",
    "ax.set_xlim(0, 300)  # set to min value of param grid\n",
    "ax.set_ylim(0.90, 1)  # accuracy from 0 to 1\n",
    "\n",
    "# Get the X_values from regular numpy array from the MaskedArray\n",
    "X_axis = np.array(results[\"param_clf__min_samples_split\"].data, dtype=float)\n",
    "\n",
    "# For train/test\n",
    "for sample, style in ((\"train\", \"--\"), (\"test\", \"-\")):\n",
    "    # Grab results from \n",
    "    sample_score_mean = results[\"mean_%s_score\" % (sample)]\n",
    "    sample_score_std = results[\"std_%s_score\" % (sample)]\n",
    "    print(\"Sample score mean\", sample_score_mean)\n",
    "    print(\"Sample score std\", sample_score_std)\n",
    "    \n",
    "    # Fill between\n",
    "    ax.fill_between(\n",
    "        X_axis,\n",
    "        sample_score_mean - sample_score_std,\n",
    "        sample_score_mean + sample_score_std,\n",
    "        alpha=0.1 if sample == \"test\" else 0,\n",
    "        color='k',\n",
    "    )\n",
    "    \n",
    "    ax.plot(\n",
    "        X_axis,\n",
    "        sample_score_mean,\n",
    "        style,\n",
    "        color='k',\n",
    "        alpha=1 if sample == \"test\" else 0.7,\n",
    "        label=\"%s\" % (sample),\n",
    "    )\n",
    "\n",
    "# best_index = np.nonzero(results['rank_test_%s' % scorer] == 1)[0][0]\n",
    "# best_score = results['mean_test_%s' % scorer][best_index]\n",
    "\n",
    "# # Plot a dotted vertical line at the best score for that scorer marked by x\n",
    "# ax.plot([X_axis[best_index], ] * 2, [0, best_score],\n",
    "#         linestyle='-.', color=color, marker='x', markeredgewidth=3, ms=8)\n",
    "\n",
    "# # Annotate the best score for that scorer\n",
    "# ax.annotate(\"%0.2f\" % best_score,\n",
    "#             (X_axis[best_index], best_score + 0.005))\n",
    "\n",
    "plt.legend(loc=\"best\")\n",
    "plt.grid(False)\n",
    "plt.show()"
   ]
  },
  {
   "cell_type": "code",
   "execution_count": null,
   "id": "exposed-swing",
   "metadata": {},
   "outputs": [],
   "source": []
  },
  {
   "cell_type": "code",
   "execution_count": 198,
   "id": "offshore-editing",
   "metadata": {},
   "outputs": [
    {
     "data": {
      "image/png": "[encoded data removed]",
      "text/plain": [
       "<Figure size 1440x1080 with 1 Axes>"
      ]
     },
     "metadata": {
      "needs_background": "light"
     },
     "output_type": "display_data"
    }
   ],
   "source": [
    "import numpy as np\n",
    "import matplotlib.pyplot as plt\n",
    "from sklearn.naive_bayes import GaussianNB\n",
    "from sklearn.svm import SVC\n",
    "from sklearn.datasets import load_digits\n",
    "from sklearn.model_selection import learning_curve\n",
    "from sklearn.model_selection import ShuffleSplit\n",
    "\n",
    "\n",
    "def plot_learning_curve(\n",
    "    estimator,\n",
    "    title,\n",
    "    X,\n",
    "    y,\n",
    "    axes=None,\n",
    "    ylim=None,\n",
    "    cv=None,\n",
    "    n_jobs=None,\n",
    "    train_sizes=np.linspace(0.1, 1.0, 5),\n",
    "):\n",
    "    \"\"\"\n",
    "    Generate 1 plots: the test and training learning curve\n",
    "\n",
    "    Parameters\n",
    "    ----------\n",
    "    estimator : estimator instance\n",
    "        An estimator instance implementing `fit` and `predict` methods which\n",
    "        will be cloned for each validation.\n",
    "\n",
    "    title : str\n",
    "        Title for the chart.\n",
    "\n",
    "    X : array-like of shape (n_samples, n_features)\n",
    "        Training vector, where ``n_samples`` is the number of samples and\n",
    "        ``n_features`` is the number of features.\n",
    "\n",
    "    y : array-like of shape (n_samples) or (n_samples, n_features)\n",
    "        Target relative to ``X`` for classification or regression;\n",
    "        None for unsupervised learning.\n",
    "\n",
    "    axes : array-like of shape (1,), default=None\n",
    "        Axes to use for plotting the curves.\n",
    "\n",
    "    ylim : tuple of shape (2,), default=None\n",
    "        Defines minimum and maximum y-values plotted, e.g. (ymin, ymax).\n",
    "\n",
    "    cv : int, cross-validation generator or an iterable, default=None\n",
    "        Determines the cross-validation splitting strategy.\n",
    "        Possible inputs for cv are:\n",
    "\n",
    "          - None, to use the default 5-fold cross-validation,\n",
    "          - integer, to specify the number of folds.\n",
    "          - :term:`CV splitter`,\n",
    "          - An iterable yielding (train, test) splits as arrays of indices.\n",
    "\n",
    "        For integer/None inputs, if ``y`` is binary or multiclass,\n",
    "        :class:`StratifiedKFold` used. If the estimator is not a classifier\n",
    "        or if ``y`` is neither binary nor multiclass, :class:`KFold` is used.\n",
    "\n",
    "        Refer :ref:`User Guide <cross_validation>` for the various\n",
    "        cross-validators that can be used here.\n",
    "\n",
    "    n_jobs : int or None, default=None\n",
    "        Number of jobs to run in parallel.\n",
    "        ``None`` means 1 unless in a :obj:`joblib.parallel_backend` context.\n",
    "        ``-1`` means using all processors. See :term:`Glossary <n_jobs>`\n",
    "        for more details.\n",
    "\n",
    "    train_sizes : array-like of shape (n_ticks,)\n",
    "        Relative or absolute numbers of training examples that will be used to\n",
    "        generate the learning curve. If the ``dtype`` is float, it is regarded\n",
    "        as a fraction of the maximum size of the training set (that is\n",
    "        determined by the selected validation method), i.e. it has to be within\n",
    "        (0, 1]. Otherwise it is interpreted as absolute sizes of the training\n",
    "        sets. Note that for classification the number of samples usually have\n",
    "        to be big enough to contain at least one sample from each class.\n",
    "        (default: np.linspace(0.1, 1.0, 5))\n",
    "    \"\"\"\n",
    "    # If we don't pass an axes object, make your own\n",
    "    if axes is None:\n",
    "        _, axes = plt.subplots(1, 1, figsize=(20, 15))\n",
    "\n",
    "    # Set title, ylim, xlabel, and ylabel\n",
    "    axes.set_title(title)\n",
    "    if ylim is not None:\n",
    "        axes.set_ylim(*ylim)\n",
    "    axes.set_xlabel(\"Training examples\")\n",
    "    axes.set_ylabel(\"Score\")\n",
    "\n",
    "    # Get train_sizes (x-values), train_scores (y-values), and test_scores (y-values)\n",
    "    train_sizes, train_scores, test_scores = learning_curve(\n",
    "        estimator, X, y, cv=cv, n_jobs=n_jobs, train_sizes=train_sizes\n",
    "    )\n",
    "    # Calculate the mean and std\n",
    "    train_scores_mean = np.mean(train_scores, axis=1)\n",
    "    train_scores_std = np.std(train_scores, axis=1)\n",
    "    test_scores_mean = np.mean(test_scores, axis=1)\n",
    "    test_scores_std = np.std(test_scores, axis=1)\n",
    "\n",
    "    # Plot areas\n",
    "    axes.grid()\n",
    "    # Plot area for test\n",
    "    axes.fill_between(\n",
    "        train_sizes,\n",
    "        train_scores_mean - train_scores_std,\n",
    "        train_scores_mean + train_scores_std,\n",
    "        alpha=0.1,\n",
    "        color=\"r\",\n",
    "    )\n",
    "    # Plot area for test\n",
    "    axes.fill_between(\n",
    "        train_sizes,\n",
    "        test_scores_mean - test_scores_std,\n",
    "        test_scores_mean + test_scores_std,\n",
    "        alpha=0.1,\n",
    "        color=\"g\",\n",
    "    )\n",
    "    # Plot the lines for train\n",
    "    axes.plot(train_sizes, train_scores_mean, \"o-\", color=\"r\", label=\"Training score\")\n",
    "    # Plot line for test\n",
    "    axes.plot(\n",
    "        train_sizes, test_scores_mean, \"o-\", color=\"g\", label=\"Cross-validation score\"\n",
    "    )\n",
    "    axes.legend(loc=\"best\")\n",
    "\n",
    "    return plt\n",
    "\n",
    "\n",
    "X, y = load_digits(return_X_y=True)\n",
    "\n",
    "title = \"Learning Curves (Naive Bayes)\"\n",
    "# Cross validation with 100 iterations to get smoother mean test and train\n",
    "# score curves, each time with 20% data randomly selected as a validation set.\n",
    "cv = ShuffleSplit(n_splits=100, test_size=0.2, random_state=0)\n",
    "\n",
    "estimator = GaussianNB()\n",
    "plot_learning_curve(estimator, title, X, y, ylim=(0.7, 1.01), cv=cv, n_jobs=4)\n",
    "\n",
    "plt.show()"
   ]
  },
  {
   "cell_type": "code",
   "execution_count": 200,
   "id": "constant-arrangement",
   "metadata": {},
   "outputs": [
    {
     "data": {
      "image/png": "[encoded data removed]",
      "text/plain": [
       "<Figure size 1440x1080 with 1 Axes>"
      ]
     },
     "metadata": {
      "needs_background": "light"
     },
     "output_type": "display_data"
    }
   ],
   "source": [
    "title = \"Learning Curves (Random Forest)\"\n",
    "cv = ShuffleSplit(n_splits=100, test_size=0.2, random_state=0)\n",
    "\n",
    "plot_learning_curve(pipe, title, X, y, ylim=(0.7, 1.01), cv=cv, n_jobs=4)\n",
    "\n",
    "plt.show()"
   ]
  },
  {
   "cell_type": "code",
   "execution_count": 201,
   "id": "fatty-history",
   "metadata": {},
   "outputs": [
    {
     "data": {
      "text/plain": [
       "(1797, 64)"
      ]
     },
     "execution_count": 201,
     "metadata": {},
     "output_type": "execute_result"
    }
   ],
   "source": [
    "X.shape"
   ]
  },
  {
   "cell_type": "code",
   "execution_count": null,
   "id": "subtle-reply",
   "metadata": {},
   "outputs": [],
   "source": []
  }
 ],
 "metadata": {
  "kernelspec": {
   "display_name": "Python 3",
   "language": "python",
   "name": "python3"
  },
  "language_info": {
   "codemirror_mode": {
    "name": "ipython",
    "version": 3
   },
   "file_extension": ".py",
   "mimetype": "text/x-python",
   "name": "python",
   "nbconvert_exporter": "python",
   "pygments_lexer": "ipython3",
   "version": "3.7.3"
  }
 },
 "nbformat": 4,
 "nbformat_minor": 5
}
