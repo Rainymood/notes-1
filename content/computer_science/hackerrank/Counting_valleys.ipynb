{
 "cells": [
  {
   "cell_type": "raw",
   "id": "biological-magnitude",
   "metadata": {},
   "source": [
    "---\n",
    "title: \"Counting valleys solution\"\n",
    "author: \"Jan Meppe\"\n",
    "date: 2021-04-14\n",
    "description: \"Counting valleys solution\"\n",
    "type: technical_note\n",
    "draft: false\n",
    "---"
   ]
  },
  {
   "cell_type": "markdown",
   "id": "bigger-shadow",
   "metadata": {},
   "source": [
    "## Problem"
   ]
  },
  {
   "cell_type": "markdown",
   "id": "minute-replica",
   "metadata": {},
   "source": [
    "[link](https://www.hackerrank.com/challenges/counting-valleys/problem?h_l=interview&playlist_slugs%5B%5D=interview-preparation-kit&playlist_slugs%5B%5D=warmup)\n",
    "\n",
    "An avid hiker keeps meticulous records of their hikes. During the last hike that took exactly  steps, for every step it was noted if it was an uphill, , or a downhill,  step. Hikes always start and end at sea level, and each step up or down represents a  unit change in altitude. We define the following terms:\n",
    "\n",
    "A mountain is a sequence of consecutive steps above sea level, starting with a step up from sea level and ending with a step down to sea level.\n",
    "A valley is a sequence of consecutive steps below sea level, starting with a step down from sea level and ending with a step up to sea level.\n",
    "Given the sequence of up and down steps during a hike, find and print the number of valleys walked through.\n",
    "\n",
    "Example\n",
    "\n",
    " \n",
    "\n",
    "The hiker first enters a valley  units deep. Then they climb out and up onto a mountain  units high. Finally, the hiker returns to sea level and ends the hike.\n",
    "\n",
    "Function Description\n",
    "\n",
    "Complete the countingValleys function in the editor below.\n",
    "\n",
    "countingValleys has the following parameter(s):\n",
    "\n",
    "int steps: the number of steps on the hike\n",
    "string path: a string describing the path\n",
    "Returns\n",
    "\n",
    "int: the number of valleys traversed\n",
    "Input Format\n",
    "\n",
    "The first line contains an integer , the number of steps in the hike.\n",
    "The second line contains a single string , of  characters that describe the path.\n",
    "\n",
    "Constraints\n",
    "\n",
    "Sample Input\n",
    "\n",
    "8\n",
    "UDDDUDUU\n",
    "Sample Output\n",
    "\n",
    "1\n",
    "Explanation\n",
    "\n",
    "If we represent _ as sea level, a step up as /, and a step down as \\, the hike can be drawn as:\n",
    "\n",
    "_/\\      _\n",
    "   \\    /\n",
    "    \\/\\/\n",
    "The hiker enters and leaves one valley."
   ]
  },
  {
   "cell_type": "markdown",
   "id": "durable-count",
   "metadata": {},
   "source": [
    "## Solution"
   ]
  },
  {
   "cell_type": "code",
   "execution_count": 17,
   "id": "serious-oriental",
   "metadata": {},
   "outputs": [
    {
     "name": "stdout",
     "output_type": "stream",
     "text": [
      "1\n"
     ]
    }
   ],
   "source": [
    "steps = 8\n",
    "path = \"UDDDUDUU\"\n",
    "\n",
    "def countingValleys(steps, path):\n",
    "    count = 0\n",
    "    level = 0\n",
    "    \n",
    "    for step in path:\n",
    "        if level == -1 and step == \"U\":\n",
    "            count += 1\n",
    "        if step == \"U\":\n",
    "            level += 1\n",
    "        else: \n",
    "            level -= 1\n",
    "            \n",
    "    return count\n",
    "\n",
    "result = countingValleys(steps, path)\n",
    "print(result)"
   ]
  },
  {
   "cell_type": "markdown",
   "id": "thrown-papua",
   "metadata": {},
   "source": [
    "## Lessons\n",
    "\n",
    "* Keep track of variables with a counter\n",
    "* Do it on paper and do it by hand, look for \"smart\" algorithms, don't worry about efficiency just yet"
   ]
  },
  {
   "cell_type": "code",
   "execution_count": null,
   "id": "offensive-million",
   "metadata": {},
   "outputs": [],
   "source": []
  }
 ],
 "metadata": {
  "kernelspec": {
   "display_name": "Python 3",
   "language": "python",
   "name": "python3"
  },
  "language_info": {
   "codemirror_mode": {
    "name": "ipython",
    "version": 3
   },
   "file_extension": ".py",
   "mimetype": "text/x-python",
   "name": "python",
   "nbconvert_exporter": "python",
   "pygments_lexer": "ipython3",
   "version": "3.7.3"
  }
 },
 "nbformat": 4,
 "nbformat_minor": 5
}
